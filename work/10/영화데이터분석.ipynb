{
  "nbformat": 4,
  "nbformat_minor": 0,
  "metadata": {
    "colab": {
      "name": "영화데이터분석.ipynb",
      "provenance": [],
      "collapsed_sections": []
    },
    "kernelspec": {
      "name": "python3",
      "display_name": "Python 3"
    }
  },
  "cells": [
    {
      "cell_type": "markdown",
      "metadata": {
        "colab_type": "text",
        "id": "0Nj76qUe2lnA"
      },
      "source": [
        "## 영화데이터를 활용한 관객수 분석"
      ]
    },
    {
      "cell_type": "code",
      "metadata": {
        "id": "fKunIuOl99ns",
        "colab_type": "code",
        "colab": {
          "base_uri": "https://localhost:8080/",
          "height": 35
        },
        "outputId": "981700e9-76a3-4cbe-9588-bc5ab59c65ac"
      },
      "source": [
        "from google.colab import drive\n",
        "drive.mount('/content/drive')"
      ],
      "execution_count": 2,
      "outputs": [
        {
          "output_type": "stream",
          "text": [
            "Drive already mounted at /content/drive; to attempt to forcibly remount, call drive.mount(\"/content/drive\", force_remount=True).\n"
          ],
          "name": "stdout"
        }
      ]
    },
    {
      "cell_type": "markdown",
      "metadata": {
        "colab_type": "text",
        "id": "JYHb_Mf-2lnG"
      },
      "source": [
        "## 1. 라이브러리 및 데이터 "
      ]
    },
    {
      "cell_type": "code",
      "metadata": {
        "id": "WbNyJSkeYjz1",
        "colab_type": "code",
        "colab": {
          "base_uri": "https://localhost:8080/",
          "height": 107
        },
        "outputId": "2e1cfcdd-8972-4719-8ec8-d9f77ef17638"
      },
      "source": [
        "#한글 폰트 사용 : colab , 런타임 다시 시작 하기\n",
        "%config InlineBackend.figure_format = 'retina'\n",
        "!apt -qq -y install fonts-nanum\n"
      ],
      "execution_count": 1,
      "outputs": [
        {
          "output_type": "stream",
          "text": [
            "fonts-nanum is already the newest version (20170925-1).\n",
            "The following package was automatically installed and is no longer required:\n",
            "  libnvidia-common-440\n",
            "Use 'apt autoremove' to remove it.\n",
            "0 upgraded, 0 newly installed, 0 to remove and 35 not upgraded.\n"
          ],
          "name": "stdout"
        }
      ]
    },
    {
      "cell_type": "code",
      "metadata": {
        "colab_type": "code",
        "id": "pb0OD3v82lnT",
        "colab": {}
      },
      "source": [
        "import pandas as pd #판다스 패키지 불러오기\n",
        "\n",
        "from sklearn.linear_model import LogisticRegression # 로지스틱 회귀 모델 불러오기\n",
        "from sklearn.tree import DecisionTreeClassifier # 의사결정 나무 모델 불러오기"
      ],
      "execution_count": 2,
      "outputs": []
    },
    {
      "cell_type": "code",
      "metadata": {
        "id": "lFkj6iiAyzFq",
        "colab_type": "code",
        "colab": {}
      },
      "source": [
        "#시각화 모듈\n",
        "import matplotlib\n",
        "import matplotlib.pyplot as plt\n",
        "\n",
        "#한글 폰트 사용 : vscode , window\n",
        "import matplotlib as mpl\n",
        "import matplotlib.font_manager as fm\n",
        "fontpath = '/usr/share/fonts/truetype/nanum/NanumBarunGothic.ttf'\n",
        "font = fm.FontProperties(fname=fontpath, size=9)\n",
        "plt.rc('font', family='NanumBarunGothic') \n",
        "mpl.font_manager._rebuild()\n",
        "\n",
        "#마이너스 깨지는 경우 처리\n",
        "matplotlib.rcParams['axes.unicode_minus'] = False \n",
        "\n",
        "#seaborn 라이브러리를 이용한 시각화\n",
        "import seaborn as sns"
      ],
      "execution_count": 4,
      "outputs": []
    },
    {
      "cell_type": "code",
      "metadata": {
        "id": "ucB6aeAf6FPT",
        "colab_type": "code",
        "colab": {}
      },
      "source": [
        "# 데이터 불러오기\n",
        "# 모델 학습 파일\n",
        "train = pd.read_csv('/content/drive/My Drive/PythonWork/PythonBasic/06/영화데이터/data/movies_train.csv') "
      ],
      "execution_count": 5,
      "outputs": []
    },
    {
      "cell_type": "code",
      "metadata": {
        "id": "-zbU1V3h9tSJ",
        "colab_type": "code",
        "colab": {
          "base_uri": "https://localhost:8080/",
          "height": 359
        },
        "outputId": "e9803113-8698-47c8-9ae0-215c57120e3a"
      },
      "source": [
        "train.info()"
      ],
      "execution_count": 6,
      "outputs": [
        {
          "output_type": "stream",
          "text": [
            "<class 'pandas.core.frame.DataFrame'>\n",
            "RangeIndex: 600 entries, 0 to 599\n",
            "Data columns (total 12 columns):\n",
            " #   Column          Non-Null Count  Dtype  \n",
            "---  ------          --------------  -----  \n",
            " 0   title           600 non-null    object \n",
            " 1   distributor     600 non-null    object \n",
            " 2   genre           600 non-null    object \n",
            " 3   release_time    600 non-null    object \n",
            " 4   time            600 non-null    int64  \n",
            " 5   screening_rat   600 non-null    object \n",
            " 6   director        600 non-null    object \n",
            " 7   dir_prev_bfnum  270 non-null    float64\n",
            " 8   dir_prev_num    600 non-null    int64  \n",
            " 9   num_staff       600 non-null    int64  \n",
            " 10  num_actor       600 non-null    int64  \n",
            " 11  box_off_num     600 non-null    int64  \n",
            "dtypes: float64(1), int64(5), object(6)\n",
            "memory usage: 56.4+ KB\n"
          ],
          "name": "stdout"
        }
      ]
    },
    {
      "cell_type": "markdown",
      "metadata": {
        "id": "6bGmayeXPoo0",
        "colab_type": "text"
      },
      "source": [
        "+ title : 영화제목\n",
        "+ distributor : 배급사\n",
        "+ genre : 장르\n",
        "+ release_time : 개봉일\n",
        "+ time : 상영시간(분)\n",
        "+ screening_rat: 상영등급\n",
        "+ director : 감독이름\n",
        "+ dir_prev_bfnum : 영화감독이 참여했던 영화 평균관객수\n",
        "+ dir_prev_num :영화감독이 참여했던 영화수\n",
        "+ num_staff :스텝수\n",
        "+ num_actor :주연배우수 \n",
        "+ box_off_num : 관객수    "
      ]
    },
    {
      "cell_type": "markdown",
      "metadata": {
        "colab_type": "text",
        "id": "jwLtCHGC2lnb"
      },
      "source": [
        "## 2. 탐색적 자료분석 ( Exploratory Data Analysis : EDA)"
      ]
    },
    {
      "cell_type": "markdown",
      "metadata": {
        "id": "H6Ej-t5Pj85_",
        "colab_type": "text"
      },
      "source": [
        "#### 전체 자료 확인\n",
        "+ pd.options.display.float_format = '{:.1f}'.format\n",
        "+ pd.reset_option('display.float_format')"
      ]
    },
    {
      "cell_type": "code",
      "metadata": {
        "id": "_Q15QVXMBJKt",
        "colab_type": "code",
        "colab": {
          "base_uri": "https://localhost:8080/",
          "height": 394
        },
        "outputId": "f0f37e84-89be-4294-ecb0-a6a08ce756b5"
      },
      "source": [
        "train.head()"
      ],
      "execution_count": 7,
      "outputs": [
        {
          "output_type": "execute_result",
          "data": {
            "text/html": [
              "<div>\n",
              "<style scoped>\n",
              "    .dataframe tbody tr th:only-of-type {\n",
              "        vertical-align: middle;\n",
              "    }\n",
              "\n",
              "    .dataframe tbody tr th {\n",
              "        vertical-align: top;\n",
              "    }\n",
              "\n",
              "    .dataframe thead th {\n",
              "        text-align: right;\n",
              "    }\n",
              "</style>\n",
              "<table border=\"1\" class=\"dataframe\">\n",
              "  <thead>\n",
              "    <tr style=\"text-align: right;\">\n",
              "      <th></th>\n",
              "      <th>title</th>\n",
              "      <th>distributor</th>\n",
              "      <th>genre</th>\n",
              "      <th>release_time</th>\n",
              "      <th>time</th>\n",
              "      <th>screening_rat</th>\n",
              "      <th>director</th>\n",
              "      <th>dir_prev_bfnum</th>\n",
              "      <th>dir_prev_num</th>\n",
              "      <th>num_staff</th>\n",
              "      <th>num_actor</th>\n",
              "      <th>box_off_num</th>\n",
              "    </tr>\n",
              "  </thead>\n",
              "  <tbody>\n",
              "    <tr>\n",
              "      <th>0</th>\n",
              "      <td>개들의 전쟁</td>\n",
              "      <td>롯데엔터테인먼트</td>\n",
              "      <td>액션</td>\n",
              "      <td>2012-11-22</td>\n",
              "      <td>96</td>\n",
              "      <td>청소년 관람불가</td>\n",
              "      <td>조병옥</td>\n",
              "      <td>NaN</td>\n",
              "      <td>0</td>\n",
              "      <td>91</td>\n",
              "      <td>2</td>\n",
              "      <td>23398</td>\n",
              "    </tr>\n",
              "    <tr>\n",
              "      <th>1</th>\n",
              "      <td>내부자들</td>\n",
              "      <td>(주)쇼박스</td>\n",
              "      <td>느와르</td>\n",
              "      <td>2015-11-19</td>\n",
              "      <td>130</td>\n",
              "      <td>청소년 관람불가</td>\n",
              "      <td>우민호</td>\n",
              "      <td>1161602.50</td>\n",
              "      <td>2</td>\n",
              "      <td>387</td>\n",
              "      <td>3</td>\n",
              "      <td>7072501</td>\n",
              "    </tr>\n",
              "    <tr>\n",
              "      <th>2</th>\n",
              "      <td>은밀하게 위대하게</td>\n",
              "      <td>(주)쇼박스</td>\n",
              "      <td>액션</td>\n",
              "      <td>2013-06-05</td>\n",
              "      <td>123</td>\n",
              "      <td>15세 관람가</td>\n",
              "      <td>장철수</td>\n",
              "      <td>220775.25</td>\n",
              "      <td>4</td>\n",
              "      <td>343</td>\n",
              "      <td>4</td>\n",
              "      <td>6959083</td>\n",
              "    </tr>\n",
              "    <tr>\n",
              "      <th>3</th>\n",
              "      <td>나는 공무원이다</td>\n",
              "      <td>(주)NEW</td>\n",
              "      <td>코미디</td>\n",
              "      <td>2012-07-12</td>\n",
              "      <td>101</td>\n",
              "      <td>전체 관람가</td>\n",
              "      <td>구자홍</td>\n",
              "      <td>23894.00</td>\n",
              "      <td>2</td>\n",
              "      <td>20</td>\n",
              "      <td>6</td>\n",
              "      <td>217866</td>\n",
              "    </tr>\n",
              "    <tr>\n",
              "      <th>4</th>\n",
              "      <td>불량남녀</td>\n",
              "      <td>쇼박스(주)미디어플렉스</td>\n",
              "      <td>코미디</td>\n",
              "      <td>2010-11-04</td>\n",
              "      <td>108</td>\n",
              "      <td>15세 관람가</td>\n",
              "      <td>신근호</td>\n",
              "      <td>1.00</td>\n",
              "      <td>1</td>\n",
              "      <td>251</td>\n",
              "      <td>2</td>\n",
              "      <td>483387</td>\n",
              "    </tr>\n",
              "  </tbody>\n",
              "</table>\n",
              "</div>"
            ],
            "text/plain": [
              "       title   distributor genre  ... num_staff  num_actor box_off_num\n",
              "0     개들의 전쟁      롯데엔터테인먼트    액션  ...        91          2       23398\n",
              "1       내부자들        (주)쇼박스   느와르  ...       387          3     7072501\n",
              "2  은밀하게 위대하게        (주)쇼박스    액션  ...       343          4     6959083\n",
              "3   나는 공무원이다        (주)NEW   코미디  ...        20          6      217866\n",
              "4       불량남녀  쇼박스(주)미디어플렉스   코미디  ...       251          2      483387\n",
              "\n",
              "[5 rows x 12 columns]"
            ]
          },
          "metadata": {
            "tags": []
          },
          "execution_count": 7
        }
      ]
    },
    {
      "cell_type": "code",
      "metadata": {
        "id": "UPIKDDDFkCTu",
        "colab_type": "code",
        "colab": {
          "base_uri": "https://localhost:8080/",
          "height": 297
        },
        "outputId": "f5ed3626-e7a1-4b27-e87b-c0d3e066dc06"
      },
      "source": [
        "#평균 통계값 \n",
        "train.describe()"
      ],
      "execution_count": 8,
      "outputs": [
        {
          "output_type": "execute_result",
          "data": {
            "text/html": [
              "<div>\n",
              "<style scoped>\n",
              "    .dataframe tbody tr th:only-of-type {\n",
              "        vertical-align: middle;\n",
              "    }\n",
              "\n",
              "    .dataframe tbody tr th {\n",
              "        vertical-align: top;\n",
              "    }\n",
              "\n",
              "    .dataframe thead th {\n",
              "        text-align: right;\n",
              "    }\n",
              "</style>\n",
              "<table border=\"1\" class=\"dataframe\">\n",
              "  <thead>\n",
              "    <tr style=\"text-align: right;\">\n",
              "      <th></th>\n",
              "      <th>time</th>\n",
              "      <th>dir_prev_bfnum</th>\n",
              "      <th>dir_prev_num</th>\n",
              "      <th>num_staff</th>\n",
              "      <th>num_actor</th>\n",
              "      <th>box_off_num</th>\n",
              "    </tr>\n",
              "  </thead>\n",
              "  <tbody>\n",
              "    <tr>\n",
              "      <th>count</th>\n",
              "      <td>600.000000</td>\n",
              "      <td>2.700000e+02</td>\n",
              "      <td>600.000000</td>\n",
              "      <td>600.000000</td>\n",
              "      <td>600.000000</td>\n",
              "      <td>6.000000e+02</td>\n",
              "    </tr>\n",
              "    <tr>\n",
              "      <th>mean</th>\n",
              "      <td>100.863333</td>\n",
              "      <td>1.050443e+06</td>\n",
              "      <td>0.876667</td>\n",
              "      <td>151.118333</td>\n",
              "      <td>3.706667</td>\n",
              "      <td>7.081818e+05</td>\n",
              "    </tr>\n",
              "    <tr>\n",
              "      <th>std</th>\n",
              "      <td>18.097528</td>\n",
              "      <td>1.791408e+06</td>\n",
              "      <td>1.183409</td>\n",
              "      <td>165.654671</td>\n",
              "      <td>2.446889</td>\n",
              "      <td>1.828006e+06</td>\n",
              "    </tr>\n",
              "    <tr>\n",
              "      <th>min</th>\n",
              "      <td>45.000000</td>\n",
              "      <td>1.000000e+00</td>\n",
              "      <td>0.000000</td>\n",
              "      <td>0.000000</td>\n",
              "      <td>0.000000</td>\n",
              "      <td>1.000000e+00</td>\n",
              "    </tr>\n",
              "    <tr>\n",
              "      <th>25%</th>\n",
              "      <td>89.000000</td>\n",
              "      <td>2.038000e+04</td>\n",
              "      <td>0.000000</td>\n",
              "      <td>17.000000</td>\n",
              "      <td>2.000000</td>\n",
              "      <td>1.297250e+03</td>\n",
              "    </tr>\n",
              "    <tr>\n",
              "      <th>50%</th>\n",
              "      <td>100.000000</td>\n",
              "      <td>4.784236e+05</td>\n",
              "      <td>0.000000</td>\n",
              "      <td>82.500000</td>\n",
              "      <td>3.000000</td>\n",
              "      <td>1.259100e+04</td>\n",
              "    </tr>\n",
              "    <tr>\n",
              "      <th>75%</th>\n",
              "      <td>114.000000</td>\n",
              "      <td>1.286569e+06</td>\n",
              "      <td>2.000000</td>\n",
              "      <td>264.000000</td>\n",
              "      <td>4.000000</td>\n",
              "      <td>4.798868e+05</td>\n",
              "    </tr>\n",
              "    <tr>\n",
              "      <th>max</th>\n",
              "      <td>180.000000</td>\n",
              "      <td>1.761531e+07</td>\n",
              "      <td>5.000000</td>\n",
              "      <td>869.000000</td>\n",
              "      <td>25.000000</td>\n",
              "      <td>1.426277e+07</td>\n",
              "    </tr>\n",
              "  </tbody>\n",
              "</table>\n",
              "</div>"
            ],
            "text/plain": [
              "             time  dir_prev_bfnum  ...   num_actor   box_off_num\n",
              "count  600.000000    2.700000e+02  ...  600.000000  6.000000e+02\n",
              "mean   100.863333    1.050443e+06  ...    3.706667  7.081818e+05\n",
              "std     18.097528    1.791408e+06  ...    2.446889  1.828006e+06\n",
              "min     45.000000    1.000000e+00  ...    0.000000  1.000000e+00\n",
              "25%     89.000000    2.038000e+04  ...    2.000000  1.297250e+03\n",
              "50%    100.000000    4.784236e+05  ...    3.000000  1.259100e+04\n",
              "75%    114.000000    1.286569e+06  ...    4.000000  4.798868e+05\n",
              "max    180.000000    1.761531e+07  ...   25.000000  1.426277e+07\n",
              "\n",
              "[8 rows x 6 columns]"
            ]
          },
          "metadata": {
            "tags": []
          },
          "execution_count": 8
        }
      ]
    },
    {
      "cell_type": "code",
      "metadata": {
        "id": "0QyB2_XYkGkK",
        "colab_type": "code",
        "colab": {}
      },
      "source": [
        "#판다스 수치 표현 변경\n",
        "pd.options.display.float_format = '{:.1f}'.format"
      ],
      "execution_count": 13,
      "outputs": []
    },
    {
      "cell_type": "code",
      "metadata": {
        "id": "0U35pikamhNr",
        "colab_type": "code",
        "colab": {}
      },
      "source": [
        "pd.reset_option('display.float_format')"
      ],
      "execution_count": 11,
      "outputs": []
    },
    {
      "cell_type": "code",
      "metadata": {
        "id": "NpKfq4uHkMiz",
        "colab_type": "code",
        "colab": {
          "base_uri": "https://localhost:8080/",
          "height": 297
        },
        "outputId": "d153ca0b-4c1c-4d9d-ae33-091b87830d73"
      },
      "source": [
        "train.describe()"
      ],
      "execution_count": 14,
      "outputs": [
        {
          "output_type": "execute_result",
          "data": {
            "text/html": [
              "<div>\n",
              "<style scoped>\n",
              "    .dataframe tbody tr th:only-of-type {\n",
              "        vertical-align: middle;\n",
              "    }\n",
              "\n",
              "    .dataframe tbody tr th {\n",
              "        vertical-align: top;\n",
              "    }\n",
              "\n",
              "    .dataframe thead th {\n",
              "        text-align: right;\n",
              "    }\n",
              "</style>\n",
              "<table border=\"1\" class=\"dataframe\">\n",
              "  <thead>\n",
              "    <tr style=\"text-align: right;\">\n",
              "      <th></th>\n",
              "      <th>time</th>\n",
              "      <th>dir_prev_bfnum</th>\n",
              "      <th>dir_prev_num</th>\n",
              "      <th>num_staff</th>\n",
              "      <th>num_actor</th>\n",
              "      <th>box_off_num</th>\n",
              "    </tr>\n",
              "  </thead>\n",
              "  <tbody>\n",
              "    <tr>\n",
              "      <th>count</th>\n",
              "      <td>600.0</td>\n",
              "      <td>270.0</td>\n",
              "      <td>600.0</td>\n",
              "      <td>600.0</td>\n",
              "      <td>600.0</td>\n",
              "      <td>600.0</td>\n",
              "    </tr>\n",
              "    <tr>\n",
              "      <th>mean</th>\n",
              "      <td>100.9</td>\n",
              "      <td>1050442.9</td>\n",
              "      <td>0.9</td>\n",
              "      <td>151.1</td>\n",
              "      <td>3.7</td>\n",
              "      <td>708181.8</td>\n",
              "    </tr>\n",
              "    <tr>\n",
              "      <th>std</th>\n",
              "      <td>18.1</td>\n",
              "      <td>1791408.3</td>\n",
              "      <td>1.2</td>\n",
              "      <td>165.7</td>\n",
              "      <td>2.4</td>\n",
              "      <td>1828005.9</td>\n",
              "    </tr>\n",
              "    <tr>\n",
              "      <th>min</th>\n",
              "      <td>45.0</td>\n",
              "      <td>1.0</td>\n",
              "      <td>0.0</td>\n",
              "      <td>0.0</td>\n",
              "      <td>0.0</td>\n",
              "      <td>1.0</td>\n",
              "    </tr>\n",
              "    <tr>\n",
              "      <th>25%</th>\n",
              "      <td>89.0</td>\n",
              "      <td>20380.0</td>\n",
              "      <td>0.0</td>\n",
              "      <td>17.0</td>\n",
              "      <td>2.0</td>\n",
              "      <td>1297.2</td>\n",
              "    </tr>\n",
              "    <tr>\n",
              "      <th>50%</th>\n",
              "      <td>100.0</td>\n",
              "      <td>478423.6</td>\n",
              "      <td>0.0</td>\n",
              "      <td>82.5</td>\n",
              "      <td>3.0</td>\n",
              "      <td>12591.0</td>\n",
              "    </tr>\n",
              "    <tr>\n",
              "      <th>75%</th>\n",
              "      <td>114.0</td>\n",
              "      <td>1286568.6</td>\n",
              "      <td>2.0</td>\n",
              "      <td>264.0</td>\n",
              "      <td>4.0</td>\n",
              "      <td>479886.8</td>\n",
              "    </tr>\n",
              "    <tr>\n",
              "      <th>max</th>\n",
              "      <td>180.0</td>\n",
              "      <td>17615314.0</td>\n",
              "      <td>5.0</td>\n",
              "      <td>869.0</td>\n",
              "      <td>25.0</td>\n",
              "      <td>14262766.0</td>\n",
              "    </tr>\n",
              "  </tbody>\n",
              "</table>\n",
              "</div>"
            ],
            "text/plain": [
              "       time  dir_prev_bfnum  dir_prev_num  num_staff  num_actor  box_off_num\n",
              "count 600.0           270.0         600.0      600.0      600.0        600.0\n",
              "mean  100.9       1050442.9           0.9      151.1        3.7     708181.8\n",
              "std    18.1       1791408.3           1.2      165.7        2.4    1828005.9\n",
              "min    45.0             1.0           0.0        0.0        0.0          1.0\n",
              "25%    89.0         20380.0           0.0       17.0        2.0       1297.2\n",
              "50%   100.0        478423.6           0.0       82.5        3.0      12591.0\n",
              "75%   114.0       1286568.6           2.0      264.0        4.0     479886.8\n",
              "max   180.0      17615314.0           5.0      869.0       25.0   14262766.0"
            ]
          },
          "metadata": {
            "tags": []
          },
          "execution_count": 14
        }
      ]
    },
    {
      "cell_type": "code",
      "metadata": {
        "id": "e5PL37LwB6P1",
        "colab_type": "code",
        "colab": {
          "base_uri": "https://localhost:8080/",
          "height": 359
        },
        "outputId": "21fa744a-e840-4d64-9d55-2928851bdd89"
      },
      "source": [
        "train.info()"
      ],
      "execution_count": 15,
      "outputs": [
        {
          "output_type": "stream",
          "text": [
            "<class 'pandas.core.frame.DataFrame'>\n",
            "RangeIndex: 600 entries, 0 to 599\n",
            "Data columns (total 12 columns):\n",
            " #   Column          Non-Null Count  Dtype  \n",
            "---  ------          --------------  -----  \n",
            " 0   title           600 non-null    object \n",
            " 1   distributor     600 non-null    object \n",
            " 2   genre           600 non-null    object \n",
            " 3   release_time    600 non-null    object \n",
            " 4   time            600 non-null    int64  \n",
            " 5   screening_rat   600 non-null    object \n",
            " 6   director        600 non-null    object \n",
            " 7   dir_prev_bfnum  270 non-null    float64\n",
            " 8   dir_prev_num    600 non-null    int64  \n",
            " 9   num_staff       600 non-null    int64  \n",
            " 10  num_actor       600 non-null    int64  \n",
            " 11  box_off_num     600 non-null    int64  \n",
            "dtypes: float64(1), int64(5), object(6)\n",
            "memory usage: 56.4+ KB\n"
          ],
          "name": "stdout"
        }
      ]
    },
    {
      "cell_type": "code",
      "metadata": {
        "id": "f9VMwSVSms_g",
        "colab_type": "code",
        "colab": {
          "base_uri": "https://localhost:8080/",
          "height": 225
        },
        "outputId": "0ff95e54-965d-44d5-a0e1-91941b943a99"
      },
      "source": [
        "#상관계수\n",
        "train.corr()"
      ],
      "execution_count": null,
      "outputs": [
        {
          "output_type": "execute_result",
          "data": {
            "text/html": [
              "<div>\n",
              "<style scoped>\n",
              "    .dataframe tbody tr th:only-of-type {\n",
              "        vertical-align: middle;\n",
              "    }\n",
              "\n",
              "    .dataframe tbody tr th {\n",
              "        vertical-align: top;\n",
              "    }\n",
              "\n",
              "    .dataframe thead th {\n",
              "        text-align: right;\n",
              "    }\n",
              "</style>\n",
              "<table border=\"1\" class=\"dataframe\">\n",
              "  <thead>\n",
              "    <tr style=\"text-align: right;\">\n",
              "      <th></th>\n",
              "      <th>time</th>\n",
              "      <th>dir_prev_bfnum</th>\n",
              "      <th>dir_prev_num</th>\n",
              "      <th>num_staff</th>\n",
              "      <th>num_actor</th>\n",
              "      <th>box_off_num</th>\n",
              "    </tr>\n",
              "  </thead>\n",
              "  <tbody>\n",
              "    <tr>\n",
              "      <th>time</th>\n",
              "      <td>1.000000</td>\n",
              "      <td>0.264675</td>\n",
              "      <td>0.306727</td>\n",
              "      <td>0.623205</td>\n",
              "      <td>0.114153</td>\n",
              "      <td>0.441452</td>\n",
              "    </tr>\n",
              "    <tr>\n",
              "      <th>dir_prev_bfnum</th>\n",
              "      <td>0.264675</td>\n",
              "      <td>1.000000</td>\n",
              "      <td>0.131822</td>\n",
              "      <td>0.323521</td>\n",
              "      <td>0.083818</td>\n",
              "      <td>0.283184</td>\n",
              "    </tr>\n",
              "    <tr>\n",
              "      <th>dir_prev_num</th>\n",
              "      <td>0.306727</td>\n",
              "      <td>0.131822</td>\n",
              "      <td>1.000000</td>\n",
              "      <td>0.450706</td>\n",
              "      <td>0.014006</td>\n",
              "      <td>0.259674</td>\n",
              "    </tr>\n",
              "    <tr>\n",
              "      <th>num_staff</th>\n",
              "      <td>0.623205</td>\n",
              "      <td>0.323521</td>\n",
              "      <td>0.450706</td>\n",
              "      <td>1.000000</td>\n",
              "      <td>0.077871</td>\n",
              "      <td>0.544265</td>\n",
              "    </tr>\n",
              "    <tr>\n",
              "      <th>num_actor</th>\n",
              "      <td>0.114153</td>\n",
              "      <td>0.083818</td>\n",
              "      <td>0.014006</td>\n",
              "      <td>0.077871</td>\n",
              "      <td>1.000000</td>\n",
              "      <td>0.111179</td>\n",
              "    </tr>\n",
              "    <tr>\n",
              "      <th>box_off_num</th>\n",
              "      <td>0.441452</td>\n",
              "      <td>0.283184</td>\n",
              "      <td>0.259674</td>\n",
              "      <td>0.544265</td>\n",
              "      <td>0.111179</td>\n",
              "      <td>1.000000</td>\n",
              "    </tr>\n",
              "  </tbody>\n",
              "</table>\n",
              "</div>"
            ],
            "text/plain": [
              "                    time  dir_prev_bfnum  ...  num_actor  box_off_num\n",
              "time            1.000000        0.264675  ...   0.114153     0.441452\n",
              "dir_prev_bfnum  0.264675        1.000000  ...   0.083818     0.283184\n",
              "dir_prev_num    0.306727        0.131822  ...   0.014006     0.259674\n",
              "num_staff       0.623205        0.323521  ...   0.077871     0.544265\n",
              "num_actor       0.114153        0.083818  ...   1.000000     0.111179\n",
              "box_off_num     0.441452        0.283184  ...   0.111179     1.000000\n",
              "\n",
              "[6 rows x 6 columns]"
            ]
          },
          "metadata": {
            "tags": []
          },
          "execution_count": 11
        }
      ]
    },
    {
      "cell_type": "code",
      "metadata": {
        "id": "o9varpK8nHS4",
        "colab_type": "code",
        "colab": {
          "base_uri": "https://localhost:8080/",
          "height": 349
        },
        "outputId": "d15d7ff6-937b-44f2-ab48-3fcd2e36fb59"
      },
      "source": [
        "sns.heatmap(train.corr(), cmap='Blues', annot=True)"
      ],
      "execution_count": null,
      "outputs": [
        {
          "output_type": "execute_result",
          "data": {
            "text/plain": [
              "<matplotlib.axes._subplots.AxesSubplot at 0x7f0a86b693c8>"
            ]
          },
          "metadata": {
            "tags": []
          },
          "execution_count": 12
        },
        {
          "output_type": "display_data",
          "data": {
            "image/png": "[encoded data removed]",
            "text/plain": [
              "<Figure size 432x288 with 2 Axes>"
            ]
          },
          "metadata": {
            "tags": [],
            "image/png": {
              "width": 410,
              "height": 314
            },
            "needs_background": "light"
          }
        }
      ]
    },
    {
      "cell_type": "markdown",
      "metadata": {
        "id": "QUgt5RPVlN55",
        "colab_type": "text"
      },
      "source": [
        "####장르별 \n",
        "+ 영화 관람 평균 그래프를 그리시오."
      ]
    },
    {
      "cell_type": "code",
      "metadata": {
        "id": "SJDP1knvlLxu",
        "colab_type": "code",
        "colab": {
          "base_uri": "https://localhost:8080/",
          "height": 287
        },
        "outputId": "5b127cff-fc4d-44cd-d5cc-d3b5a1408881"
      },
      "source": [
        "dfg = train.groupby('genre')['box_off_num'].mean().sort_values()\n",
        "print(type(dfg))\n",
        "print(dfg)"
      ],
      "execution_count": 10,
      "outputs": [
        {
          "output_type": "stream",
          "text": [
            "<class 'pandas.core.series.Series'>\n",
            "genre\n",
            "뮤지컬       6.627000e+03\n",
            "다큐멘터리     6.717226e+04\n",
            "서스펜스      8.261100e+04\n",
            "애니메이션     1.819267e+05\n",
            "멜로/로맨스    4.259680e+05\n",
            "미스터리      5.275482e+05\n",
            "공포        5.908325e+05\n",
            "드라마       6.256898e+05\n",
            "코미디       1.193914e+06\n",
            "SF        1.788346e+06\n",
            "액션        2.203974e+06\n",
            "느와르       2.263695e+06\n",
            "Name: box_off_num, dtype: float64\n"
          ],
          "name": "stdout"
        }
      ]
    },
    {
      "cell_type": "code",
      "metadata": {
        "id": "naKESK8clmig",
        "colab_type": "code",
        "colab": {
          "base_uri": "https://localhost:8080/",
          "height": 280
        },
        "outputId": "e2694af7-61a3-46f7-e0f3-cd265714e6a6"
      },
      "source": [
        "dfg.plot(kind='barh')\n",
        "plt.show()"
      ],
      "execution_count": 11,
      "outputs": [
        {
          "output_type": "display_data",
          "data": {
            "image/png": "[encoded data removed]",
            "text/plain": [
              "<Figure size 432x288 with 1 Axes>"
            ]
          },
          "metadata": {
            "tags": [],
            "image/png": {
              "width": 420,
              "height": 263
            },
            "needs_background": "light"
          }
        }
      ]
    },
    {
      "cell_type": "markdown",
      "metadata": {
        "id": "MP35w68tgYsU",
        "colab_type": "text"
      },
      "source": [
        "####상영등급 \n",
        "+ 상영 등급별 영화관람평균 그래프를 그리시오."
      ]
    },
    {
      "cell_type": "code",
      "metadata": {
        "id": "va7Wv5Z0gZGQ",
        "colab_type": "code",
        "colab": {
          "base_uri": "https://localhost:8080/",
          "height": 105
        },
        "outputId": "dda1de8a-fd14-48c5-b728-36161313c0ff"
      },
      "source": [
        "train['screening_rat'].value_counts()"
      ],
      "execution_count": null,
      "outputs": [
        {
          "output_type": "execute_result",
          "data": {
            "text/plain": [
              "청소년 관람불가    204\n",
              "15세 관람가     202\n",
              "12세 관람가     102\n",
              "전체 관람가       92\n",
              "Name: screening_rat, dtype: int64"
            ]
          },
          "metadata": {
            "tags": []
          },
          "execution_count": 16
        }
      ]
    },
    {
      "cell_type": "code",
      "metadata": {
        "id": "QRbpaLaYge1Z",
        "colab_type": "code",
        "colab": {}
      },
      "source": [
        "dfg = train.groupby('screening_rat')['box_off_num'].mean().sort_values()"
      ],
      "execution_count": null,
      "outputs": []
    },
    {
      "cell_type": "code",
      "metadata": {
        "id": "eNLujvlAgzGZ",
        "colab_type": "code",
        "colab": {
          "base_uri": "https://localhost:8080/",
          "height": 298
        },
        "outputId": "610aad2a-b837-4cf2-be52-c19faf0e5237"
      },
      "source": [
        "dfg.plot(kind='barh')"
      ],
      "execution_count": null,
      "outputs": [
        {
          "output_type": "execute_result",
          "data": {
            "text/plain": [
              "<matplotlib.axes._subplots.AxesSubplot at 0x7f0a81acd588>"
            ]
          },
          "metadata": {
            "tags": []
          },
          "execution_count": 18
        },
        {
          "output_type": "display_data",
          "data": {
            "image/png": "[encoded data removed]",
            "text/plain": [
              "<Figure size 432x288 with 1 Axes>"
            ]
          },
          "metadata": {
            "tags": [],
            "image/png": {
              "width": 436,
              "height": 263
            },
            "needs_background": "light"
          }
        }
      ]
    },
    {
      "cell_type": "markdown",
      "metadata": {
        "id": "vOb2H74yVOx7",
        "colab_type": "text"
      },
      "source": [
        "#### 영화 배급사를 영화수를 이용하여 1~5등급으로 분류하여 새로운 데이터프레임 생성\n",
        "+ 영화사 등급 열 dgrade을 추가 \n",
        "+ 영화사 등급별 제작 장르에 대한 그래프를 그리시오. \n",
        "\n",
        "+ 영화사 등급별 관객수 평균 그래프를 그리시오.\n"
      ]
    },
    {
      "cell_type": "code",
      "metadata": {
        "id": "DzPb3MyqQvyq",
        "colab_type": "code",
        "colab": {
          "base_uri": "https://localhost:8080/",
          "height": 233
        },
        "outputId": "991d67c9-9445-4ba5-e222-722449b42f82"
      },
      "source": [
        "#영화 배급사 : 169\n",
        "df_title = train['distributor'].value_counts() \n",
        "df_title"
      ],
      "execution_count": 23,
      "outputs": [
        {
          "output_type": "execute_result",
          "data": {
            "text/plain": [
              "CJ 엔터테인먼트    54\n",
              "롯데엔터테인먼트     52\n",
              "(주)NEW       30\n",
              "(주)마운틴픽쳐스    29\n",
              "인디스토리        26\n",
              "             ..\n",
              "영화사 조아        1\n",
              "콘텐츠판다         1\n",
              "나우콘텐츠         1\n",
              "프로젝트 엠피       1\n",
              "전주국제영화제       1\n",
              "Name: distributor, Length: 169, dtype: int64"
            ]
          },
          "metadata": {
            "tags": []
          },
          "execution_count": 23
        }
      ]
    },
    {
      "cell_type": "code",
      "metadata": {
        "id": "fjeESvwKSXNf",
        "colab_type": "code",
        "colab": {
          "base_uri": "https://localhost:8080/",
          "height": 419
        },
        "outputId": "7f33dcad-e312-433a-86a6-986c9b937ca8"
      },
      "source": [
        "df_title = pd.DataFrame(df_title)\n",
        "df_title "
      ],
      "execution_count": 24,
      "outputs": [
        {
          "output_type": "execute_result",
          "data": {
            "text/html": [
              "<div>\n",
              "<style scoped>\n",
              "    .dataframe tbody tr th:only-of-type {\n",
              "        vertical-align: middle;\n",
              "    }\n",
              "\n",
              "    .dataframe tbody tr th {\n",
              "        vertical-align: top;\n",
              "    }\n",
              "\n",
              "    .dataframe thead th {\n",
              "        text-align: right;\n",
              "    }\n",
              "</style>\n",
              "<table border=\"1\" class=\"dataframe\">\n",
              "  <thead>\n",
              "    <tr style=\"text-align: right;\">\n",
              "      <th></th>\n",
              "      <th>distributor</th>\n",
              "    </tr>\n",
              "  </thead>\n",
              "  <tbody>\n",
              "    <tr>\n",
              "      <th>CJ 엔터테인먼트</th>\n",
              "      <td>54</td>\n",
              "    </tr>\n",
              "    <tr>\n",
              "      <th>롯데엔터테인먼트</th>\n",
              "      <td>52</td>\n",
              "    </tr>\n",
              "    <tr>\n",
              "      <th>(주)NEW</th>\n",
              "      <td>30</td>\n",
              "    </tr>\n",
              "    <tr>\n",
              "      <th>(주)마운틴픽쳐스</th>\n",
              "      <td>29</td>\n",
              "    </tr>\n",
              "    <tr>\n",
              "      <th>인디스토리</th>\n",
              "      <td>26</td>\n",
              "    </tr>\n",
              "    <tr>\n",
              "      <th>...</th>\n",
              "      <td>...</td>\n",
              "    </tr>\n",
              "    <tr>\n",
              "      <th>영화사 조아</th>\n",
              "      <td>1</td>\n",
              "    </tr>\n",
              "    <tr>\n",
              "      <th>콘텐츠판다</th>\n",
              "      <td>1</td>\n",
              "    </tr>\n",
              "    <tr>\n",
              "      <th>나우콘텐츠</th>\n",
              "      <td>1</td>\n",
              "    </tr>\n",
              "    <tr>\n",
              "      <th>프로젝트 엠피</th>\n",
              "      <td>1</td>\n",
              "    </tr>\n",
              "    <tr>\n",
              "      <th>전주국제영화제</th>\n",
              "      <td>1</td>\n",
              "    </tr>\n",
              "  </tbody>\n",
              "</table>\n",
              "<p>169 rows × 1 columns</p>\n",
              "</div>"
            ],
            "text/plain": [
              "           distributor\n",
              "CJ 엔터테인먼트           54\n",
              "롯데엔터테인먼트            52\n",
              "(주)NEW              30\n",
              "(주)마운틴픽쳐스           29\n",
              "인디스토리               26\n",
              "...                ...\n",
              "영화사 조아               1\n",
              "콘텐츠판다                1\n",
              "나우콘텐츠                1\n",
              "프로젝트 엠피              1\n",
              "전주국제영화제              1\n",
              "\n",
              "[169 rows x 1 columns]"
            ]
          },
          "metadata": {
            "tags": []
          },
          "execution_count": 24
        }
      ]
    },
    {
      "cell_type": "code",
      "metadata": {
        "id": "1ysi7a2YFqiv",
        "colab_type": "code",
        "colab": {
          "base_uri": "https://localhost:8080/",
          "height": 341
        },
        "outputId": "d379004d-afe8-4b17-8487-37fc94362a2b"
      },
      "source": [
        "df_title['distributor'].value_counts().sort_index()"
      ],
      "execution_count": 28,
      "outputs": [
        {
          "output_type": "execute_result",
          "data": {
            "text/plain": [
              "1     102\n",
              "2      20\n",
              "3      14\n",
              "4       6\n",
              "5       2\n",
              "6       6\n",
              "7       1\n",
              "8       3\n",
              "9       1\n",
              "10      6\n",
              "14      1\n",
              "15      1\n",
              "26      2\n",
              "29      1\n",
              "30      1\n",
              "52      1\n",
              "54      1\n",
              "Name: distributor, dtype: int64"
            ]
          },
          "metadata": {
            "tags": []
          },
          "execution_count": 28
        }
      ]
    },
    {
      "cell_type": "code",
      "metadata": {
        "id": "71BKwd8cS-vt",
        "colab_type": "code",
        "colab": {}
      },
      "source": [
        "df_title['dgrade'] = pd.cut(df_title['distributor'], 5)"
      ],
      "execution_count": 29,
      "outputs": []
    },
    {
      "cell_type": "code",
      "metadata": {
        "id": "HXjpfApbGMOU",
        "colab_type": "code",
        "colab": {
          "base_uri": "https://localhost:8080/",
          "height": 269
        },
        "outputId": "f8d1584f-9375-4fb0-cf73-e09d7b320dda"
      },
      "source": [
        "df_title['dgrade']"
      ],
      "execution_count": 30,
      "outputs": [
        {
          "output_type": "execute_result",
          "data": {
            "text/plain": [
              "CJ 엔터테인먼트     (43.4, 54.0]\n",
              "롯데엔터테인먼트      (43.4, 54.0]\n",
              "(주)NEW        (22.2, 32.8]\n",
              "(주)마운틴픽쳐스     (22.2, 32.8]\n",
              "인디스토리         (22.2, 32.8]\n",
              "                 ...      \n",
              "영화사 조아       (0.947, 11.6]\n",
              "콘텐츠판다        (0.947, 11.6]\n",
              "나우콘텐츠        (0.947, 11.6]\n",
              "프로젝트 엠피      (0.947, 11.6]\n",
              "전주국제영화제      (0.947, 11.6]\n",
              "Name: dgrade, Length: 169, dtype: category\n",
              "Categories (5, interval[float64]): [(0.947, 11.6] < (11.6, 22.2] < (22.2, 32.8] < (32.8, 43.4] <\n",
              "                                    (43.4, 54.0]]"
            ]
          },
          "metadata": {
            "tags": []
          },
          "execution_count": 30
        }
      ]
    },
    {
      "cell_type": "code",
      "metadata": {
        "id": "wqp3GyfoU09f",
        "colab_type": "code",
        "colab": {}
      },
      "source": [
        "df_title['dgrade'] = pd.cut(df_title['distributor'], 5, labels=False)"
      ],
      "execution_count": 31,
      "outputs": []
    },
    {
      "cell_type": "code",
      "metadata": {
        "id": "F16v0N6jTXZb",
        "colab_type": "code",
        "colab": {
          "base_uri": "https://localhost:8080/",
          "height": 419
        },
        "outputId": "f58a130f-9b2f-4642-ad10-0c560b863db1"
      },
      "source": [
        "df_title"
      ],
      "execution_count": 32,
      "outputs": [
        {
          "output_type": "execute_result",
          "data": {
            "text/html": [
              "<div>\n",
              "<style scoped>\n",
              "    .dataframe tbody tr th:only-of-type {\n",
              "        vertical-align: middle;\n",
              "    }\n",
              "\n",
              "    .dataframe tbody tr th {\n",
              "        vertical-align: top;\n",
              "    }\n",
              "\n",
              "    .dataframe thead th {\n",
              "        text-align: right;\n",
              "    }\n",
              "</style>\n",
              "<table border=\"1\" class=\"dataframe\">\n",
              "  <thead>\n",
              "    <tr style=\"text-align: right;\">\n",
              "      <th></th>\n",
              "      <th>distributor</th>\n",
              "      <th>dgrade</th>\n",
              "    </tr>\n",
              "  </thead>\n",
              "  <tbody>\n",
              "    <tr>\n",
              "      <th>CJ 엔터테인먼트</th>\n",
              "      <td>54</td>\n",
              "      <td>4</td>\n",
              "    </tr>\n",
              "    <tr>\n",
              "      <th>롯데엔터테인먼트</th>\n",
              "      <td>52</td>\n",
              "      <td>4</td>\n",
              "    </tr>\n",
              "    <tr>\n",
              "      <th>(주)NEW</th>\n",
              "      <td>30</td>\n",
              "      <td>2</td>\n",
              "    </tr>\n",
              "    <tr>\n",
              "      <th>(주)마운틴픽쳐스</th>\n",
              "      <td>29</td>\n",
              "      <td>2</td>\n",
              "    </tr>\n",
              "    <tr>\n",
              "      <th>인디스토리</th>\n",
              "      <td>26</td>\n",
              "      <td>2</td>\n",
              "    </tr>\n",
              "    <tr>\n",
              "      <th>...</th>\n",
              "      <td>...</td>\n",
              "      <td>...</td>\n",
              "    </tr>\n",
              "    <tr>\n",
              "      <th>영화사 조아</th>\n",
              "      <td>1</td>\n",
              "      <td>0</td>\n",
              "    </tr>\n",
              "    <tr>\n",
              "      <th>콘텐츠판다</th>\n",
              "      <td>1</td>\n",
              "      <td>0</td>\n",
              "    </tr>\n",
              "    <tr>\n",
              "      <th>나우콘텐츠</th>\n",
              "      <td>1</td>\n",
              "      <td>0</td>\n",
              "    </tr>\n",
              "    <tr>\n",
              "      <th>프로젝트 엠피</th>\n",
              "      <td>1</td>\n",
              "      <td>0</td>\n",
              "    </tr>\n",
              "    <tr>\n",
              "      <th>전주국제영화제</th>\n",
              "      <td>1</td>\n",
              "      <td>0</td>\n",
              "    </tr>\n",
              "  </tbody>\n",
              "</table>\n",
              "<p>169 rows × 2 columns</p>\n",
              "</div>"
            ],
            "text/plain": [
              "           distributor  dgrade\n",
              "CJ 엔터테인먼트           54       4\n",
              "롯데엔터테인먼트            52       4\n",
              "(주)NEW              30       2\n",
              "(주)마운틴픽쳐스           29       2\n",
              "인디스토리               26       2\n",
              "...                ...     ...\n",
              "영화사 조아               1       0\n",
              "콘텐츠판다                1       0\n",
              "나우콘텐츠                1       0\n",
              "프로젝트 엠피              1       0\n",
              "전주국제영화제              1       0\n",
              "\n",
              "[169 rows x 2 columns]"
            ]
          },
          "metadata": {
            "tags": []
          },
          "execution_count": 32
        }
      ]
    },
    {
      "cell_type": "code",
      "metadata": {
        "id": "tultyOk-Vd7b",
        "colab_type": "code",
        "colab": {
          "base_uri": "https://localhost:8080/",
          "height": 419
        },
        "outputId": "1aaf6faa-987e-4701-81be-aaefe62b6735"
      },
      "source": [
        "df_title = df_title.reset_index().drop('distributor', axis = 1)\n",
        "df_title['dgrade'] = df_title['dgrade'] + 1\n",
        "df_title"
      ],
      "execution_count": 33,
      "outputs": [
        {
          "output_type": "execute_result",
          "data": {
            "text/html": [
              "<div>\n",
              "<style scoped>\n",
              "    .dataframe tbody tr th:only-of-type {\n",
              "        vertical-align: middle;\n",
              "    }\n",
              "\n",
              "    .dataframe tbody tr th {\n",
              "        vertical-align: top;\n",
              "    }\n",
              "\n",
              "    .dataframe thead th {\n",
              "        text-align: right;\n",
              "    }\n",
              "</style>\n",
              "<table border=\"1\" class=\"dataframe\">\n",
              "  <thead>\n",
              "    <tr style=\"text-align: right;\">\n",
              "      <th></th>\n",
              "      <th>index</th>\n",
              "      <th>dgrade</th>\n",
              "    </tr>\n",
              "  </thead>\n",
              "  <tbody>\n",
              "    <tr>\n",
              "      <th>0</th>\n",
              "      <td>CJ 엔터테인먼트</td>\n",
              "      <td>5</td>\n",
              "    </tr>\n",
              "    <tr>\n",
              "      <th>1</th>\n",
              "      <td>롯데엔터테인먼트</td>\n",
              "      <td>5</td>\n",
              "    </tr>\n",
              "    <tr>\n",
              "      <th>2</th>\n",
              "      <td>(주)NEW</td>\n",
              "      <td>3</td>\n",
              "    </tr>\n",
              "    <tr>\n",
              "      <th>3</th>\n",
              "      <td>(주)마운틴픽쳐스</td>\n",
              "      <td>3</td>\n",
              "    </tr>\n",
              "    <tr>\n",
              "      <th>4</th>\n",
              "      <td>인디스토리</td>\n",
              "      <td>3</td>\n",
              "    </tr>\n",
              "    <tr>\n",
              "      <th>...</th>\n",
              "      <td>...</td>\n",
              "      <td>...</td>\n",
              "    </tr>\n",
              "    <tr>\n",
              "      <th>164</th>\n",
              "      <td>영화사 조아</td>\n",
              "      <td>1</td>\n",
              "    </tr>\n",
              "    <tr>\n",
              "      <th>165</th>\n",
              "      <td>콘텐츠판다</td>\n",
              "      <td>1</td>\n",
              "    </tr>\n",
              "    <tr>\n",
              "      <th>166</th>\n",
              "      <td>나우콘텐츠</td>\n",
              "      <td>1</td>\n",
              "    </tr>\n",
              "    <tr>\n",
              "      <th>167</th>\n",
              "      <td>프로젝트 엠피</td>\n",
              "      <td>1</td>\n",
              "    </tr>\n",
              "    <tr>\n",
              "      <th>168</th>\n",
              "      <td>전주국제영화제</td>\n",
              "      <td>1</td>\n",
              "    </tr>\n",
              "  </tbody>\n",
              "</table>\n",
              "<p>169 rows × 2 columns</p>\n",
              "</div>"
            ],
            "text/plain": [
              "         index  dgrade\n",
              "0    CJ 엔터테인먼트       5\n",
              "1     롯데엔터테인먼트       5\n",
              "2       (주)NEW       3\n",
              "3    (주)마운틴픽쳐스       3\n",
              "4        인디스토리       3\n",
              "..         ...     ...\n",
              "164     영화사 조아       1\n",
              "165      콘텐츠판다       1\n",
              "166      나우콘텐츠       1\n",
              "167    프로젝트 엠피       1\n",
              "168    전주국제영화제       1\n",
              "\n",
              "[169 rows x 2 columns]"
            ]
          },
          "metadata": {
            "tags": []
          },
          "execution_count": 33
        }
      ]
    },
    {
      "cell_type": "code",
      "metadata": {
        "id": "7E08qianHgme",
        "colab_type": "code",
        "colab": {
          "base_uri": "https://localhost:8080/",
          "height": 359
        },
        "outputId": "24149071-07fb-462e-8fa0-72e8b0ed88eb"
      },
      "source": [
        "train.info()"
      ],
      "execution_count": 34,
      "outputs": [
        {
          "output_type": "stream",
          "text": [
            "<class 'pandas.core.frame.DataFrame'>\n",
            "RangeIndex: 600 entries, 0 to 599\n",
            "Data columns (total 12 columns):\n",
            " #   Column          Non-Null Count  Dtype  \n",
            "---  ------          --------------  -----  \n",
            " 0   title           600 non-null    object \n",
            " 1   distributor     600 non-null    object \n",
            " 2   genre           600 non-null    object \n",
            " 3   release_time    600 non-null    object \n",
            " 4   time            600 non-null    int64  \n",
            " 5   screening_rat   600 non-null    object \n",
            " 6   director        600 non-null    object \n",
            " 7   dir_prev_bfnum  270 non-null    float64\n",
            " 8   dir_prev_num    600 non-null    int64  \n",
            " 9   num_staff       600 non-null    int64  \n",
            " 10  num_actor       600 non-null    int64  \n",
            " 11  box_off_num     600 non-null    int64  \n",
            "dtypes: float64(1), int64(5), object(6)\n",
            "memory usage: 56.4+ KB\n"
          ],
          "name": "stdout"
        }
      ]
    },
    {
      "cell_type": "code",
      "metadata": {
        "id": "yHzurCFSHl8c",
        "colab_type": "code",
        "colab": {
          "base_uri": "https://localhost:8080/",
          "height": 179
        },
        "outputId": "8265f434-d9fe-4004-8d51-bfc07eb98d37"
      },
      "source": [
        "df_title.info()"
      ],
      "execution_count": 37,
      "outputs": [
        {
          "output_type": "stream",
          "text": [
            "<class 'pandas.core.frame.DataFrame'>\n",
            "RangeIndex: 169 entries, 0 to 168\n",
            "Data columns (total 2 columns):\n",
            " #   Column       Non-Null Count  Dtype \n",
            "---  ------       --------------  ----- \n",
            " 0   distributor  169 non-null    object\n",
            " 1   dgrade       169 non-null    int64 \n",
            "dtypes: int64(1), object(1)\n",
            "memory usage: 2.8+ KB\n"
          ],
          "name": "stdout"
        }
      ]
    },
    {
      "cell_type": "code",
      "metadata": {
        "id": "RXTgHjeAV9k-",
        "colab_type": "code",
        "colab": {
          "base_uri": "https://localhost:8080/",
          "height": 419
        },
        "outputId": "b047dbbd-ec1e-4632-8d14-91b2d32af494"
      },
      "source": [
        "df_title = df_title.rename(columns={'index':'distributor'})\n",
        "df_title"
      ],
      "execution_count": 36,
      "outputs": [
        {
          "output_type": "execute_result",
          "data": {
            "text/html": [
              "<div>\n",
              "<style scoped>\n",
              "    .dataframe tbody tr th:only-of-type {\n",
              "        vertical-align: middle;\n",
              "    }\n",
              "\n",
              "    .dataframe tbody tr th {\n",
              "        vertical-align: top;\n",
              "    }\n",
              "\n",
              "    .dataframe thead th {\n",
              "        text-align: right;\n",
              "    }\n",
              "</style>\n",
              "<table border=\"1\" class=\"dataframe\">\n",
              "  <thead>\n",
              "    <tr style=\"text-align: right;\">\n",
              "      <th></th>\n",
              "      <th>distributor</th>\n",
              "      <th>dgrade</th>\n",
              "    </tr>\n",
              "  </thead>\n",
              "  <tbody>\n",
              "    <tr>\n",
              "      <th>0</th>\n",
              "      <td>CJ 엔터테인먼트</td>\n",
              "      <td>5</td>\n",
              "    </tr>\n",
              "    <tr>\n",
              "      <th>1</th>\n",
              "      <td>롯데엔터테인먼트</td>\n",
              "      <td>5</td>\n",
              "    </tr>\n",
              "    <tr>\n",
              "      <th>2</th>\n",
              "      <td>(주)NEW</td>\n",
              "      <td>3</td>\n",
              "    </tr>\n",
              "    <tr>\n",
              "      <th>3</th>\n",
              "      <td>(주)마운틴픽쳐스</td>\n",
              "      <td>3</td>\n",
              "    </tr>\n",
              "    <tr>\n",
              "      <th>4</th>\n",
              "      <td>인디스토리</td>\n",
              "      <td>3</td>\n",
              "    </tr>\n",
              "    <tr>\n",
              "      <th>...</th>\n",
              "      <td>...</td>\n",
              "      <td>...</td>\n",
              "    </tr>\n",
              "    <tr>\n",
              "      <th>164</th>\n",
              "      <td>영화사 조아</td>\n",
              "      <td>1</td>\n",
              "    </tr>\n",
              "    <tr>\n",
              "      <th>165</th>\n",
              "      <td>콘텐츠판다</td>\n",
              "      <td>1</td>\n",
              "    </tr>\n",
              "    <tr>\n",
              "      <th>166</th>\n",
              "      <td>나우콘텐츠</td>\n",
              "      <td>1</td>\n",
              "    </tr>\n",
              "    <tr>\n",
              "      <th>167</th>\n",
              "      <td>프로젝트 엠피</td>\n",
              "      <td>1</td>\n",
              "    </tr>\n",
              "    <tr>\n",
              "      <th>168</th>\n",
              "      <td>전주국제영화제</td>\n",
              "      <td>1</td>\n",
              "    </tr>\n",
              "  </tbody>\n",
              "</table>\n",
              "<p>169 rows × 2 columns</p>\n",
              "</div>"
            ],
            "text/plain": [
              "    distributor  dgrade\n",
              "0     CJ 엔터테인먼트       5\n",
              "1      롯데엔터테인먼트       5\n",
              "2        (주)NEW       3\n",
              "3     (주)마운틴픽쳐스       3\n",
              "4         인디스토리       3\n",
              "..          ...     ...\n",
              "164      영화사 조아       1\n",
              "165       콘텐츠판다       1\n",
              "166       나우콘텐츠       1\n",
              "167     프로젝트 엠피       1\n",
              "168     전주국제영화제       1\n",
              "\n",
              "[169 rows x 2 columns]"
            ]
          },
          "metadata": {
            "tags": []
          },
          "execution_count": 36
        }
      ]
    },
    {
      "cell_type": "code",
      "metadata": {
        "id": "7XIdpOULMWoc",
        "colab_type": "code",
        "colab": {}
      },
      "source": [
        "df_box = train.groupby('distributor')['box_off_num'].mean().sort_values()"
      ],
      "execution_count": 59,
      "outputs": []
    },
    {
      "cell_type": "code",
      "metadata": {
        "id": "b7WYVe9JNMU6",
        "colab_type": "code",
        "colab": {
          "base_uri": "https://localhost:8080/",
          "height": 419
        },
        "outputId": "373b8f13-2aee-4aef-a013-049f7a96effd"
      },
      "source": [
        "df_box = df_box.reset_index()\n",
        "df_box"
      ],
      "execution_count": 60,
      "outputs": [
        {
          "output_type": "execute_result",
          "data": {
            "text/html": [
              "<div>\n",
              "<style scoped>\n",
              "    .dataframe tbody tr th:only-of-type {\n",
              "        vertical-align: middle;\n",
              "    }\n",
              "\n",
              "    .dataframe tbody tr th {\n",
              "        vertical-align: top;\n",
              "    }\n",
              "\n",
              "    .dataframe thead th {\n",
              "        text-align: right;\n",
              "    }\n",
              "</style>\n",
              "<table border=\"1\" class=\"dataframe\">\n",
              "  <thead>\n",
              "    <tr style=\"text-align: right;\">\n",
              "      <th></th>\n",
              "      <th>distributor</th>\n",
              "      <th>box_off_num</th>\n",
              "    </tr>\n",
              "  </thead>\n",
              "  <tbody>\n",
              "    <tr>\n",
              "      <th>0</th>\n",
              "      <td>인피니티엔터테인먼트</td>\n",
              "      <td>2.000000e+00</td>\n",
              "    </tr>\n",
              "    <tr>\n",
              "      <th>1</th>\n",
              "      <td>고구마공작소</td>\n",
              "      <td>8.000000e+00</td>\n",
              "    </tr>\n",
              "    <tr>\n",
              "      <th>2</th>\n",
              "      <td>사람과 사람들</td>\n",
              "      <td>4.200000e+01</td>\n",
              "    </tr>\n",
              "    <tr>\n",
              "      <th>3</th>\n",
              "      <td>위드시네마</td>\n",
              "      <td>4.600000e+01</td>\n",
              "    </tr>\n",
              "    <tr>\n",
              "      <th>4</th>\n",
              "      <td>나우콘텐츠</td>\n",
              "      <td>5.400000e+01</td>\n",
              "    </tr>\n",
              "    <tr>\n",
              "      <th>...</th>\n",
              "      <td>...</td>\n",
              "      <td>...</td>\n",
              "    </tr>\n",
              "    <tr>\n",
              "      <th>164</th>\n",
              "      <td>영구아트무비</td>\n",
              "      <td>2.541603e+06</td>\n",
              "    </tr>\n",
              "    <tr>\n",
              "      <th>165</th>\n",
              "      <td>쇼박스(주)미디어플렉스</td>\n",
              "      <td>2.634823e+06</td>\n",
              "    </tr>\n",
              "    <tr>\n",
              "      <th>166</th>\n",
              "      <td>(주)아이필름코퍼레이션</td>\n",
              "      <td>3.117859e+06</td>\n",
              "    </tr>\n",
              "    <tr>\n",
              "      <th>167</th>\n",
              "      <td>(주)쇼박스</td>\n",
              "      <td>3.386656e+06</td>\n",
              "    </tr>\n",
              "    <tr>\n",
              "      <th>168</th>\n",
              "      <td>CJ E&amp;M Pictures</td>\n",
              "      <td>4.122337e+06</td>\n",
              "    </tr>\n",
              "  </tbody>\n",
              "</table>\n",
              "<p>169 rows × 2 columns</p>\n",
              "</div>"
            ],
            "text/plain": [
              "         distributor   box_off_num\n",
              "0         인피니티엔터테인먼트  2.000000e+00\n",
              "1             고구마공작소  8.000000e+00\n",
              "2            사람과 사람들  4.200000e+01\n",
              "3              위드시네마  4.600000e+01\n",
              "4              나우콘텐츠  5.400000e+01\n",
              "..               ...           ...\n",
              "164           영구아트무비  2.541603e+06\n",
              "165     쇼박스(주)미디어플렉스  2.634823e+06\n",
              "166     (주)아이필름코퍼레이션  3.117859e+06\n",
              "167           (주)쇼박스  3.386656e+06\n",
              "168  CJ E&M Pictures  4.122337e+06\n",
              "\n",
              "[169 rows x 2 columns]"
            ]
          },
          "metadata": {
            "tags": []
          },
          "execution_count": 60
        }
      ]
    },
    {
      "cell_type": "code",
      "metadata": {
        "id": "BYUTYhZMNHZy",
        "colab_type": "code",
        "colab": {}
      },
      "source": [
        "df_box['boxgrade'] = pd.cut(df_box['box_off_num'], 5, labels=False)"
      ],
      "execution_count": 61,
      "outputs": []
    },
    {
      "cell_type": "code",
      "metadata": {
        "id": "bvnOijhDOsyM",
        "colab_type": "code",
        "colab": {
          "base_uri": "https://localhost:8080/",
          "height": 80
        },
        "outputId": "21cafc65-e019-4192-8d51-1f0555928eb7"
      },
      "source": [
        "df_box[df_box['distributor'] == 'CJ E&M Pictures']"
      ],
      "execution_count": 67,
      "outputs": [
        {
          "output_type": "execute_result",
          "data": {
            "text/html": [
              "<div>\n",
              "<style scoped>\n",
              "    .dataframe tbody tr th:only-of-type {\n",
              "        vertical-align: middle;\n",
              "    }\n",
              "\n",
              "    .dataframe tbody tr th {\n",
              "        vertical-align: top;\n",
              "    }\n",
              "\n",
              "    .dataframe thead th {\n",
              "        text-align: right;\n",
              "    }\n",
              "</style>\n",
              "<table border=\"1\" class=\"dataframe\">\n",
              "  <thead>\n",
              "    <tr style=\"text-align: right;\">\n",
              "      <th></th>\n",
              "      <th>distributor</th>\n",
              "      <th>boxgrade</th>\n",
              "    </tr>\n",
              "  </thead>\n",
              "  <tbody>\n",
              "    <tr>\n",
              "      <th>168</th>\n",
              "      <td>CJ E&amp;M Pictures</td>\n",
              "      <td>5</td>\n",
              "    </tr>\n",
              "  </tbody>\n",
              "</table>\n",
              "</div>"
            ],
            "text/plain": [
              "         distributor  boxgrade\n",
              "168  CJ E&M Pictures         5"
            ]
          },
          "metadata": {
            "tags": []
          },
          "execution_count": 67
        }
      ]
    },
    {
      "cell_type": "code",
      "metadata": {
        "id": "wa5MIeWDPRDK",
        "colab_type": "code",
        "colab": {
          "base_uri": "https://localhost:8080/",
          "height": 80
        },
        "outputId": "482bc6cf-db26-497c-fd47-c8ddfea54e27"
      },
      "source": [
        "df_title[df_title['distributor'] == 'CJ E&M Pictures']"
      ],
      "execution_count": 68,
      "outputs": [
        {
          "output_type": "execute_result",
          "data": {
            "text/html": [
              "<div>\n",
              "<style scoped>\n",
              "    .dataframe tbody tr th:only-of-type {\n",
              "        vertical-align: middle;\n",
              "    }\n",
              "\n",
              "    .dataframe tbody tr th {\n",
              "        vertical-align: top;\n",
              "    }\n",
              "\n",
              "    .dataframe thead th {\n",
              "        text-align: right;\n",
              "    }\n",
              "</style>\n",
              "<table border=\"1\" class=\"dataframe\">\n",
              "  <thead>\n",
              "    <tr style=\"text-align: right;\">\n",
              "      <th></th>\n",
              "      <th>distributor</th>\n",
              "      <th>dgrade</th>\n",
              "    </tr>\n",
              "  </thead>\n",
              "  <tbody>\n",
              "    <tr>\n",
              "      <th>64</th>\n",
              "      <td>CJ E&amp;M Pictures</td>\n",
              "      <td>1</td>\n",
              "    </tr>\n",
              "  </tbody>\n",
              "</table>\n",
              "</div>"
            ],
            "text/plain": [
              "        distributor  dgrade\n",
              "64  CJ E&M Pictures       1"
            ]
          },
          "metadata": {
            "tags": []
          },
          "execution_count": 68
        }
      ]
    },
    {
      "cell_type": "code",
      "metadata": {
        "id": "plZYM0ffPehE",
        "colab_type": "code",
        "colab": {
          "base_uri": "https://localhost:8080/",
          "height": 216
        },
        "outputId": "b7bae143-0f58-4875-a0d8-5c5e344a89c3"
      },
      "source": [
        "train[train['distributor'] == 'CJ E&M Pictures']"
      ],
      "execution_count": 69,
      "outputs": [
        {
          "output_type": "execute_result",
          "data": {
            "text/html": [
              "<div>\n",
              "<style scoped>\n",
              "    .dataframe tbody tr th:only-of-type {\n",
              "        vertical-align: middle;\n",
              "    }\n",
              "\n",
              "    .dataframe tbody tr th {\n",
              "        vertical-align: top;\n",
              "    }\n",
              "\n",
              "    .dataframe thead th {\n",
              "        text-align: right;\n",
              "    }\n",
              "</style>\n",
              "<table border=\"1\" class=\"dataframe\">\n",
              "  <thead>\n",
              "    <tr style=\"text-align: right;\">\n",
              "      <th></th>\n",
              "      <th>title</th>\n",
              "      <th>distributor</th>\n",
              "      <th>genre</th>\n",
              "      <th>release_time</th>\n",
              "      <th>time</th>\n",
              "      <th>screening_rat</th>\n",
              "      <th>director</th>\n",
              "      <th>dir_prev_bfnum</th>\n",
              "      <th>dir_prev_num</th>\n",
              "      <th>num_staff</th>\n",
              "      <th>num_actor</th>\n",
              "      <th>box_off_num</th>\n",
              "    </tr>\n",
              "  </thead>\n",
              "  <tbody>\n",
              "    <tr>\n",
              "      <th>16</th>\n",
              "      <td>써니</td>\n",
              "      <td>CJ E&amp;M Pictures</td>\n",
              "      <td>코미디</td>\n",
              "      <td>2011-05-04</td>\n",
              "      <td>124</td>\n",
              "      <td>15세 관람가</td>\n",
              "      <td>강형철</td>\n",
              "      <td>8223342.0</td>\n",
              "      <td>1</td>\n",
              "      <td>572</td>\n",
              "      <td>11</td>\n",
              "      <td>7453715</td>\n",
              "    </tr>\n",
              "    <tr>\n",
              "      <th>522</th>\n",
              "      <td>화이트: 저주의 멜로디</td>\n",
              "      <td>CJ E&amp;M Pictures</td>\n",
              "      <td>공포</td>\n",
              "      <td>2011-06-09</td>\n",
              "      <td>106</td>\n",
              "      <td>15세 관람가</td>\n",
              "      <td>김곡</td>\n",
              "      <td>NaN</td>\n",
              "      <td>0</td>\n",
              "      <td>98</td>\n",
              "      <td>5</td>\n",
              "      <td>790959</td>\n",
              "    </tr>\n",
              "  </tbody>\n",
              "</table>\n",
              "</div>"
            ],
            "text/plain": [
              "            title      distributor genre  ... num_staff  num_actor box_off_num\n",
              "16             써니  CJ E&M Pictures   코미디  ...       572         11     7453715\n",
              "522  화이트: 저주의 멜로디  CJ E&M Pictures    공포  ...        98          5      790959\n",
              "\n",
              "[2 rows x 12 columns]"
            ]
          },
          "metadata": {
            "tags": []
          },
          "execution_count": 69
        }
      ]
    },
    {
      "cell_type": "code",
      "metadata": {
        "id": "U-iZbvIxNosd",
        "colab_type": "code",
        "colab": {
          "base_uri": "https://localhost:8080/",
          "height": 419
        },
        "outputId": "8325f3e8-8602-4f8c-b366-d10e9b289e81"
      },
      "source": [
        "df_box = df_box.drop('box_off_num', axis = 1)\n",
        "df_box['boxgrade'] = df_box['boxgrade'] + 1\n",
        "df_box"
      ],
      "execution_count": 62,
      "outputs": [
        {
          "output_type": "execute_result",
          "data": {
            "text/html": [
              "<div>\n",
              "<style scoped>\n",
              "    .dataframe tbody tr th:only-of-type {\n",
              "        vertical-align: middle;\n",
              "    }\n",
              "\n",
              "    .dataframe tbody tr th {\n",
              "        vertical-align: top;\n",
              "    }\n",
              "\n",
              "    .dataframe thead th {\n",
              "        text-align: right;\n",
              "    }\n",
              "</style>\n",
              "<table border=\"1\" class=\"dataframe\">\n",
              "  <thead>\n",
              "    <tr style=\"text-align: right;\">\n",
              "      <th></th>\n",
              "      <th>distributor</th>\n",
              "      <th>boxgrade</th>\n",
              "    </tr>\n",
              "  </thead>\n",
              "  <tbody>\n",
              "    <tr>\n",
              "      <th>0</th>\n",
              "      <td>인피니티엔터테인먼트</td>\n",
              "      <td>1</td>\n",
              "    </tr>\n",
              "    <tr>\n",
              "      <th>1</th>\n",
              "      <td>고구마공작소</td>\n",
              "      <td>1</td>\n",
              "    </tr>\n",
              "    <tr>\n",
              "      <th>2</th>\n",
              "      <td>사람과 사람들</td>\n",
              "      <td>1</td>\n",
              "    </tr>\n",
              "    <tr>\n",
              "      <th>3</th>\n",
              "      <td>위드시네마</td>\n",
              "      <td>1</td>\n",
              "    </tr>\n",
              "    <tr>\n",
              "      <th>4</th>\n",
              "      <td>나우콘텐츠</td>\n",
              "      <td>1</td>\n",
              "    </tr>\n",
              "    <tr>\n",
              "      <th>...</th>\n",
              "      <td>...</td>\n",
              "      <td>...</td>\n",
              "    </tr>\n",
              "    <tr>\n",
              "      <th>164</th>\n",
              "      <td>영구아트무비</td>\n",
              "      <td>4</td>\n",
              "    </tr>\n",
              "    <tr>\n",
              "      <th>165</th>\n",
              "      <td>쇼박스(주)미디어플렉스</td>\n",
              "      <td>4</td>\n",
              "    </tr>\n",
              "    <tr>\n",
              "      <th>166</th>\n",
              "      <td>(주)아이필름코퍼레이션</td>\n",
              "      <td>4</td>\n",
              "    </tr>\n",
              "    <tr>\n",
              "      <th>167</th>\n",
              "      <td>(주)쇼박스</td>\n",
              "      <td>5</td>\n",
              "    </tr>\n",
              "    <tr>\n",
              "      <th>168</th>\n",
              "      <td>CJ E&amp;M Pictures</td>\n",
              "      <td>5</td>\n",
              "    </tr>\n",
              "  </tbody>\n",
              "</table>\n",
              "<p>169 rows × 2 columns</p>\n",
              "</div>"
            ],
            "text/plain": [
              "         distributor  boxgrade\n",
              "0         인피니티엔터테인먼트         1\n",
              "1             고구마공작소         1\n",
              "2            사람과 사람들         1\n",
              "3              위드시네마         1\n",
              "4              나우콘텐츠         1\n",
              "..               ...       ...\n",
              "164           영구아트무비         4\n",
              "165     쇼박스(주)미디어플렉스         4\n",
              "166     (주)아이필름코퍼레이션         4\n",
              "167           (주)쇼박스         5\n",
              "168  CJ E&M Pictures         5\n",
              "\n",
              "[169 rows x 2 columns]"
            ]
          },
          "metadata": {
            "tags": []
          },
          "execution_count": 62
        }
      ]
    },
    {
      "cell_type": "code",
      "metadata": {
        "id": "ooSVwa7pONSi",
        "colab_type": "code",
        "colab": {
          "base_uri": "https://localhost:8080/",
          "height": 419
        },
        "outputId": "06e0cddd-f10e-42fc-cc00-2a2739b16b22"
      },
      "source": [
        "df_box_title = df_box.merge(df_title,  on= 'distributor')\n",
        "df_box_title"
      ],
      "execution_count": 63,
      "outputs": [
        {
          "output_type": "execute_result",
          "data": {
            "text/html": [
              "<div>\n",
              "<style scoped>\n",
              "    .dataframe tbody tr th:only-of-type {\n",
              "        vertical-align: middle;\n",
              "    }\n",
              "\n",
              "    .dataframe tbody tr th {\n",
              "        vertical-align: top;\n",
              "    }\n",
              "\n",
              "    .dataframe thead th {\n",
              "        text-align: right;\n",
              "    }\n",
              "</style>\n",
              "<table border=\"1\" class=\"dataframe\">\n",
              "  <thead>\n",
              "    <tr style=\"text-align: right;\">\n",
              "      <th></th>\n",
              "      <th>distributor</th>\n",
              "      <th>boxgrade</th>\n",
              "      <th>dgrade</th>\n",
              "    </tr>\n",
              "  </thead>\n",
              "  <tbody>\n",
              "    <tr>\n",
              "      <th>0</th>\n",
              "      <td>인피니티엔터테인먼트</td>\n",
              "      <td>1</td>\n",
              "      <td>1</td>\n",
              "    </tr>\n",
              "    <tr>\n",
              "      <th>1</th>\n",
              "      <td>고구마공작소</td>\n",
              "      <td>1</td>\n",
              "      <td>1</td>\n",
              "    </tr>\n",
              "    <tr>\n",
              "      <th>2</th>\n",
              "      <td>사람과 사람들</td>\n",
              "      <td>1</td>\n",
              "      <td>1</td>\n",
              "    </tr>\n",
              "    <tr>\n",
              "      <th>3</th>\n",
              "      <td>위드시네마</td>\n",
              "      <td>1</td>\n",
              "      <td>1</td>\n",
              "    </tr>\n",
              "    <tr>\n",
              "      <th>4</th>\n",
              "      <td>나우콘텐츠</td>\n",
              "      <td>1</td>\n",
              "      <td>1</td>\n",
              "    </tr>\n",
              "    <tr>\n",
              "      <th>...</th>\n",
              "      <td>...</td>\n",
              "      <td>...</td>\n",
              "      <td>...</td>\n",
              "    </tr>\n",
              "    <tr>\n",
              "      <th>164</th>\n",
              "      <td>영구아트무비</td>\n",
              "      <td>4</td>\n",
              "      <td>1</td>\n",
              "    </tr>\n",
              "    <tr>\n",
              "      <th>165</th>\n",
              "      <td>쇼박스(주)미디어플렉스</td>\n",
              "      <td>4</td>\n",
              "      <td>1</td>\n",
              "    </tr>\n",
              "    <tr>\n",
              "      <th>166</th>\n",
              "      <td>(주)아이필름코퍼레이션</td>\n",
              "      <td>4</td>\n",
              "      <td>1</td>\n",
              "    </tr>\n",
              "    <tr>\n",
              "      <th>167</th>\n",
              "      <td>(주)쇼박스</td>\n",
              "      <td>5</td>\n",
              "      <td>3</td>\n",
              "    </tr>\n",
              "    <tr>\n",
              "      <th>168</th>\n",
              "      <td>CJ E&amp;M Pictures</td>\n",
              "      <td>5</td>\n",
              "      <td>1</td>\n",
              "    </tr>\n",
              "  </tbody>\n",
              "</table>\n",
              "<p>169 rows × 3 columns</p>\n",
              "</div>"
            ],
            "text/plain": [
              "         distributor  boxgrade  dgrade\n",
              "0         인피니티엔터테인먼트         1       1\n",
              "1             고구마공작소         1       1\n",
              "2            사람과 사람들         1       1\n",
              "3              위드시네마         1       1\n",
              "4              나우콘텐츠         1       1\n",
              "..               ...       ...     ...\n",
              "164           영구아트무비         4       1\n",
              "165     쇼박스(주)미디어플렉스         4       1\n",
              "166     (주)아이필름코퍼레이션         4       1\n",
              "167           (주)쇼박스         5       3\n",
              "168  CJ E&M Pictures         5       1\n",
              "\n",
              "[169 rows x 3 columns]"
            ]
          },
          "metadata": {
            "tags": []
          },
          "execution_count": 63
        }
      ]
    },
    {
      "cell_type": "code",
      "metadata": {
        "id": "24_NY3DaQAbw",
        "colab_type": "code",
        "colab": {
          "base_uri": "https://localhost:8080/",
          "height": 111
        },
        "outputId": "66971d1b-ef67-4620-ee83-3b52f16c0e14"
      },
      "source": [
        "df_box_title.corr()"
      ],
      "execution_count": 70,
      "outputs": [
        {
          "output_type": "execute_result",
          "data": {
            "text/html": [
              "<div>\n",
              "<style scoped>\n",
              "    .dataframe tbody tr th:only-of-type {\n",
              "        vertical-align: middle;\n",
              "    }\n",
              "\n",
              "    .dataframe tbody tr th {\n",
              "        vertical-align: top;\n",
              "    }\n",
              "\n",
              "    .dataframe thead th {\n",
              "        text-align: right;\n",
              "    }\n",
              "</style>\n",
              "<table border=\"1\" class=\"dataframe\">\n",
              "  <thead>\n",
              "    <tr style=\"text-align: right;\">\n",
              "      <th></th>\n",
              "      <th>boxgrade</th>\n",
              "      <th>dgrade</th>\n",
              "    </tr>\n",
              "  </thead>\n",
              "  <tbody>\n",
              "    <tr>\n",
              "      <th>boxgrade</th>\n",
              "      <td>1.000000</td>\n",
              "      <td>0.330316</td>\n",
              "    </tr>\n",
              "    <tr>\n",
              "      <th>dgrade</th>\n",
              "      <td>0.330316</td>\n",
              "      <td>1.000000</td>\n",
              "    </tr>\n",
              "  </tbody>\n",
              "</table>\n",
              "</div>"
            ],
            "text/plain": [
              "          boxgrade    dgrade\n",
              "boxgrade  1.000000  0.330316\n",
              "dgrade    0.330316  1.000000"
            ]
          },
          "metadata": {
            "tags": []
          },
          "execution_count": 70
        }
      ]
    },
    {
      "cell_type": "code",
      "metadata": {
        "id": "VH37S9P3WNQf",
        "colab_type": "code",
        "colab": {
          "base_uri": "https://localhost:8080/",
          "height": 864
        },
        "outputId": "137b47c5-996e-4187-aaeb-cb2130def136"
      },
      "source": [
        "df = train.merge(df_title, on='distributor')\n",
        "df"
      ],
      "execution_count": 71,
      "outputs": [
        {
          "output_type": "execute_result",
          "data": {
            "text/html": [
              "<div>\n",
              "<style scoped>\n",
              "    .dataframe tbody tr th:only-of-type {\n",
              "        vertical-align: middle;\n",
              "    }\n",
              "\n",
              "    .dataframe tbody tr th {\n",
              "        vertical-align: top;\n",
              "    }\n",
              "\n",
              "    .dataframe thead th {\n",
              "        text-align: right;\n",
              "    }\n",
              "</style>\n",
              "<table border=\"1\" class=\"dataframe\">\n",
              "  <thead>\n",
              "    <tr style=\"text-align: right;\">\n",
              "      <th></th>\n",
              "      <th>title</th>\n",
              "      <th>distributor</th>\n",
              "      <th>genre</th>\n",
              "      <th>release_time</th>\n",
              "      <th>time</th>\n",
              "      <th>screening_rat</th>\n",
              "      <th>director</th>\n",
              "      <th>dir_prev_bfnum</th>\n",
              "      <th>dir_prev_num</th>\n",
              "      <th>num_staff</th>\n",
              "      <th>num_actor</th>\n",
              "      <th>box_off_num</th>\n",
              "      <th>dgrade</th>\n",
              "    </tr>\n",
              "  </thead>\n",
              "  <tbody>\n",
              "    <tr>\n",
              "      <th>0</th>\n",
              "      <td>개들의 전쟁</td>\n",
              "      <td>롯데엔터테인먼트</td>\n",
              "      <td>액션</td>\n",
              "      <td>2012-11-22</td>\n",
              "      <td>96</td>\n",
              "      <td>청소년 관람불가</td>\n",
              "      <td>조병옥</td>\n",
              "      <td>NaN</td>\n",
              "      <td>0</td>\n",
              "      <td>91</td>\n",
              "      <td>2</td>\n",
              "      <td>23398</td>\n",
              "      <td>5</td>\n",
              "    </tr>\n",
              "    <tr>\n",
              "      <th>1</th>\n",
              "      <td>강철대오 : 구국의 철가방</td>\n",
              "      <td>롯데엔터테인먼트</td>\n",
              "      <td>코미디</td>\n",
              "      <td>2012-10-25</td>\n",
              "      <td>113</td>\n",
              "      <td>15세 관람가</td>\n",
              "      <td>육상효</td>\n",
              "      <td>837969.0</td>\n",
              "      <td>2</td>\n",
              "      <td>262</td>\n",
              "      <td>4</td>\n",
              "      <td>233211</td>\n",
              "      <td>5</td>\n",
              "    </tr>\n",
              "    <tr>\n",
              "      <th>2</th>\n",
              "      <td>관능의 법칙</td>\n",
              "      <td>롯데엔터테인먼트</td>\n",
              "      <td>드라마</td>\n",
              "      <td>2014-02-13</td>\n",
              "      <td>108</td>\n",
              "      <td>청소년 관람불가</td>\n",
              "      <td>권칠인</td>\n",
              "      <td>75740.0</td>\n",
              "      <td>1</td>\n",
              "      <td>288</td>\n",
              "      <td>3</td>\n",
              "      <td>781516</td>\n",
              "      <td>5</td>\n",
              "    </tr>\n",
              "    <tr>\n",
              "      <th>3</th>\n",
              "      <td>끝과 시작</td>\n",
              "      <td>롯데엔터테인먼트</td>\n",
              "      <td>멜로/로맨스</td>\n",
              "      <td>2013-04-04</td>\n",
              "      <td>87</td>\n",
              "      <td>청소년 관람불가</td>\n",
              "      <td>민규동</td>\n",
              "      <td>4598985.0</td>\n",
              "      <td>1</td>\n",
              "      <td>182</td>\n",
              "      <td>3</td>\n",
              "      <td>38809</td>\n",
              "      <td>5</td>\n",
              "    </tr>\n",
              "    <tr>\n",
              "      <th>4</th>\n",
              "      <td>친구 2</td>\n",
              "      <td>롯데엔터테인먼트</td>\n",
              "      <td>느와르</td>\n",
              "      <td>2013-11-14</td>\n",
              "      <td>124</td>\n",
              "      <td>청소년 관람불가</td>\n",
              "      <td>곽경택</td>\n",
              "      <td>372863.0</td>\n",
              "      <td>2</td>\n",
              "      <td>319</td>\n",
              "      <td>3</td>\n",
              "      <td>2971475</td>\n",
              "      <td>5</td>\n",
              "    </tr>\n",
              "    <tr>\n",
              "      <th>...</th>\n",
              "      <td>...</td>\n",
              "      <td>...</td>\n",
              "      <td>...</td>\n",
              "      <td>...</td>\n",
              "      <td>...</td>\n",
              "      <td>...</td>\n",
              "      <td>...</td>\n",
              "      <td>...</td>\n",
              "      <td>...</td>\n",
              "      <td>...</td>\n",
              "      <td>...</td>\n",
              "      <td>...</td>\n",
              "      <td>...</td>\n",
              "    </tr>\n",
              "    <tr>\n",
              "      <th>595</th>\n",
              "      <td>네모난원</td>\n",
              "      <td>영화사 廊</td>\n",
              "      <td>드라마</td>\n",
              "      <td>2012-12-06</td>\n",
              "      <td>100</td>\n",
              "      <td>15세 관람가</td>\n",
              "      <td>김성훈</td>\n",
              "      <td>86837.0</td>\n",
              "      <td>2</td>\n",
              "      <td>10</td>\n",
              "      <td>3</td>\n",
              "      <td>7173</td>\n",
              "      <td>1</td>\n",
              "    </tr>\n",
              "    <tr>\n",
              "      <th>596</th>\n",
              "      <td>사랑을 말하다</td>\n",
              "      <td>크리에이티브컴즈(주)</td>\n",
              "      <td>드라마</td>\n",
              "      <td>2012-09-13</td>\n",
              "      <td>61</td>\n",
              "      <td>15세 관람가</td>\n",
              "      <td>전화성</td>\n",
              "      <td>424.0</td>\n",
              "      <td>2</td>\n",
              "      <td>6</td>\n",
              "      <td>8</td>\n",
              "      <td>188</td>\n",
              "      <td>1</td>\n",
              "    </tr>\n",
              "    <tr>\n",
              "      <th>597</th>\n",
              "      <td>분홍돌고래</td>\n",
              "      <td>ysfilm</td>\n",
              "      <td>드라마</td>\n",
              "      <td>2010-07-01</td>\n",
              "      <td>78</td>\n",
              "      <td>12세 관람가</td>\n",
              "      <td>조연수</td>\n",
              "      <td>NaN</td>\n",
              "      <td>0</td>\n",
              "      <td>17</td>\n",
              "      <td>7</td>\n",
              "      <td>172</td>\n",
              "      <td>1</td>\n",
              "    </tr>\n",
              "    <tr>\n",
              "      <th>598</th>\n",
              "      <td>메밀꽃, 운수 좋은 날, 그리고 봄봄</td>\n",
              "      <td>이달투</td>\n",
              "      <td>애니메이션</td>\n",
              "      <td>2014-08-21</td>\n",
              "      <td>90</td>\n",
              "      <td>전체 관람가</td>\n",
              "      <td>안재훈</td>\n",
              "      <td>53235.0</td>\n",
              "      <td>1</td>\n",
              "      <td>167</td>\n",
              "      <td>7</td>\n",
              "      <td>35567</td>\n",
              "      <td>1</td>\n",
              "    </tr>\n",
              "    <tr>\n",
              "      <th>599</th>\n",
              "      <td>낭만파 남편의 편지</td>\n",
              "      <td>퍼스트런</td>\n",
              "      <td>미스터리</td>\n",
              "      <td>2013-09-12</td>\n",
              "      <td>97</td>\n",
              "      <td>청소년 관람불가</td>\n",
              "      <td>최위안</td>\n",
              "      <td>NaN</td>\n",
              "      <td>0</td>\n",
              "      <td>5</td>\n",
              "      <td>3</td>\n",
              "      <td>1132</td>\n",
              "      <td>1</td>\n",
              "    </tr>\n",
              "  </tbody>\n",
              "</table>\n",
              "<p>600 rows × 13 columns</p>\n",
              "</div>"
            ],
            "text/plain": [
              "                    title  distributor   genre  ... num_actor  box_off_num dgrade\n",
              "0                  개들의 전쟁     롯데엔터테인먼트      액션  ...         2        23398      5\n",
              "1          강철대오 : 구국의 철가방     롯데엔터테인먼트     코미디  ...         4       233211      5\n",
              "2                  관능의 법칙     롯데엔터테인먼트     드라마  ...         3       781516      5\n",
              "3                   끝과 시작     롯데엔터테인먼트  멜로/로맨스  ...         3        38809      5\n",
              "4                    친구 2     롯데엔터테인먼트     느와르  ...         3      2971475      5\n",
              "..                    ...          ...     ...  ...       ...          ...    ...\n",
              "595                  네모난원        영화사 廊     드라마  ...         3         7173      1\n",
              "596               사랑을 말하다  크리에이티브컴즈(주)     드라마  ...         8          188      1\n",
              "597                 분홍돌고래       ysfilm     드라마  ...         7          172      1\n",
              "598  메밀꽃, 운수 좋은 날, 그리고 봄봄          이달투   애니메이션  ...         7        35567      1\n",
              "599            낭만파 남편의 편지         퍼스트런    미스터리  ...         3         1132      1\n",
              "\n",
              "[600 rows x 13 columns]"
            ]
          },
          "metadata": {
            "tags": []
          },
          "execution_count": 71
        }
      ]
    },
    {
      "cell_type": "code",
      "metadata": {
        "id": "MuIQutMYdjrT",
        "colab_type": "code",
        "colab": {
          "base_uri": "https://localhost:8080/",
          "height": 204
        },
        "outputId": "a0fb1987-6b1e-44de-cf05-f89aa47e5868"
      },
      "source": [
        "dfg = df.groupby('dgrade')['box_off_num'].mean()\n",
        "dfg = pd.DataFrame(dfg)\n",
        "dfg"
      ],
      "execution_count": 72,
      "outputs": [
        {
          "output_type": "execute_result",
          "data": {
            "text/html": [
              "<div>\n",
              "<style scoped>\n",
              "    .dataframe tbody tr th:only-of-type {\n",
              "        vertical-align: middle;\n",
              "    }\n",
              "\n",
              "    .dataframe tbody tr th {\n",
              "        vertical-align: top;\n",
              "    }\n",
              "\n",
              "    .dataframe thead th {\n",
              "        text-align: right;\n",
              "    }\n",
              "</style>\n",
              "<table border=\"1\" class=\"dataframe\">\n",
              "  <thead>\n",
              "    <tr style=\"text-align: right;\">\n",
              "      <th></th>\n",
              "      <th>box_off_num</th>\n",
              "    </tr>\n",
              "    <tr>\n",
              "      <th>dgrade</th>\n",
              "      <th></th>\n",
              "    </tr>\n",
              "  </thead>\n",
              "  <tbody>\n",
              "    <tr>\n",
              "      <th>1</th>\n",
              "      <td>2.514085e+05</td>\n",
              "    </tr>\n",
              "    <tr>\n",
              "      <th>2</th>\n",
              "      <td>2.757931e+03</td>\n",
              "    </tr>\n",
              "    <tr>\n",
              "      <th>3</th>\n",
              "      <td>1.393321e+06</td>\n",
              "    </tr>\n",
              "    <tr>\n",
              "      <th>5</th>\n",
              "      <td>1.709168e+06</td>\n",
              "    </tr>\n",
              "  </tbody>\n",
              "</table>\n",
              "</div>"
            ],
            "text/plain": [
              "         box_off_num\n",
              "dgrade              \n",
              "1       2.514085e+05\n",
              "2       2.757931e+03\n",
              "3       1.393321e+06\n",
              "5       1.709168e+06"
            ]
          },
          "metadata": {
            "tags": []
          },
          "execution_count": 72
        }
      ]
    },
    {
      "cell_type": "code",
      "metadata": {
        "id": "YeDW29pAfb2T",
        "colab_type": "code",
        "colab": {
          "base_uri": "https://localhost:8080/",
          "height": 305
        },
        "outputId": "9cd13607-bf79-4d51-8aa9-ad16422961fd"
      },
      "source": [
        "dfg.plot(kind='bar')"
      ],
      "execution_count": 73,
      "outputs": [
        {
          "output_type": "execute_result",
          "data": {
            "text/plain": [
              "<matplotlib.axes._subplots.AxesSubplot at 0x7feeb5b5c5c0>"
            ]
          },
          "metadata": {
            "tags": []
          },
          "execution_count": 73
        },
        {
          "output_type": "display_data",
          "data": {
            "image/png": "[encoded data removed]",
            "text/plain": [
              "<Figure size 432x288 with 1 Axes>"
            ]
          },
          "metadata": {
            "tags": [],
            "image/png": {
              "width": 370,
              "height": 270
            },
            "needs_background": "light"
          }
        }
      ]
    },
    {
      "cell_type": "code",
      "metadata": {
        "id": "-NrLAhg8awg0",
        "colab_type": "code",
        "colab": {
          "base_uri": "https://localhost:8080/",
          "height": 241
        },
        "outputId": "93912104-6062-461a-c9fa-266ad95a3408"
      },
      "source": [
        "dfg = df.groupby(['dgrade','genre'])['box_off_num'].mean()\n",
        "dfg = dfg.unstack()\n",
        "dfg"
      ],
      "execution_count": 78,
      "outputs": [
        {
          "output_type": "execute_result",
          "data": {
            "text/html": [
              "<div>\n",
              "<style scoped>\n",
              "    .dataframe tbody tr th:only-of-type {\n",
              "        vertical-align: middle;\n",
              "    }\n",
              "\n",
              "    .dataframe tbody tr th {\n",
              "        vertical-align: top;\n",
              "    }\n",
              "\n",
              "    .dataframe thead th {\n",
              "        text-align: right;\n",
              "    }\n",
              "</style>\n",
              "<table border=\"1\" class=\"dataframe\">\n",
              "  <thead>\n",
              "    <tr style=\"text-align: right;\">\n",
              "      <th>genre</th>\n",
              "      <th>SF</th>\n",
              "      <th>공포</th>\n",
              "      <th>느와르</th>\n",
              "      <th>다큐멘터리</th>\n",
              "      <th>드라마</th>\n",
              "      <th>멜로/로맨스</th>\n",
              "      <th>뮤지컬</th>\n",
              "      <th>미스터리</th>\n",
              "      <th>서스펜스</th>\n",
              "      <th>애니메이션</th>\n",
              "      <th>액션</th>\n",
              "      <th>코미디</th>\n",
              "    </tr>\n",
              "    <tr>\n",
              "      <th>dgrade</th>\n",
              "      <th></th>\n",
              "      <th></th>\n",
              "      <th></th>\n",
              "      <th></th>\n",
              "      <th></th>\n",
              "      <th></th>\n",
              "      <th></th>\n",
              "      <th></th>\n",
              "      <th></th>\n",
              "      <th></th>\n",
              "      <th></th>\n",
              "      <th></th>\n",
              "    </tr>\n",
              "  </thead>\n",
              "  <tbody>\n",
              "    <tr>\n",
              "      <th>1</th>\n",
              "      <td>3.783712e+05</td>\n",
              "      <td>3.345856e+05</td>\n",
              "      <td>4.770566e+05</td>\n",
              "      <td>77578.794521</td>\n",
              "      <td>1.940626e+05</td>\n",
              "      <td>1.610897e+05</td>\n",
              "      <td>6263.0</td>\n",
              "      <td>3.877914e+05</td>\n",
              "      <td>82611.0</td>\n",
              "      <td>61648.75</td>\n",
              "      <td>6.721999e+05</td>\n",
              "      <td>7.953111e+05</td>\n",
              "    </tr>\n",
              "    <tr>\n",
              "      <th>2</th>\n",
              "      <td>NaN</td>\n",
              "      <td>1.617000e+03</td>\n",
              "      <td>NaN</td>\n",
              "      <td>16968.333333</td>\n",
              "      <td>1.059167e+03</td>\n",
              "      <td>7.474286e+02</td>\n",
              "      <td>8083.0</td>\n",
              "      <td>1.113500e+03</td>\n",
              "      <td>NaN</td>\n",
              "      <td>NaN</td>\n",
              "      <td>2.570000e+02</td>\n",
              "      <td>7.200000e+01</td>\n",
              "    </tr>\n",
              "    <tr>\n",
              "      <th>3</th>\n",
              "      <td>7.108970e+05</td>\n",
              "      <td>1.191775e+06</td>\n",
              "      <td>4.362500e+06</td>\n",
              "      <td>32768.500000</td>\n",
              "      <td>9.579920e+05</td>\n",
              "      <td>8.215340e+05</td>\n",
              "      <td>NaN</td>\n",
              "      <td>3.861000e+03</td>\n",
              "      <td>NaN</td>\n",
              "      <td>229741.50</td>\n",
              "      <td>3.586112e+06</td>\n",
              "      <td>2.689844e+06</td>\n",
              "    </tr>\n",
              "    <tr>\n",
              "      <th>5</th>\n",
              "      <td>4.711394e+06</td>\n",
              "      <td>8.756950e+05</td>\n",
              "      <td>1.817743e+06</td>\n",
              "      <td>8567.000000</td>\n",
              "      <td>1.977679e+06</td>\n",
              "      <td>1.325437e+06</td>\n",
              "      <td>NaN</td>\n",
              "      <td>1.040638e+06</td>\n",
              "      <td>NaN</td>\n",
              "      <td>374456.00</td>\n",
              "      <td>2.922236e+06</td>\n",
              "      <td>1.461424e+06</td>\n",
              "    </tr>\n",
              "  </tbody>\n",
              "</table>\n",
              "</div>"
            ],
            "text/plain": [
              "genre             SF            공포  ...            액션           코미디\n",
              "dgrade                              ...                            \n",
              "1       3.783712e+05  3.345856e+05  ...  6.721999e+05  7.953111e+05\n",
              "2                NaN  1.617000e+03  ...  2.570000e+02  7.200000e+01\n",
              "3       7.108970e+05  1.191775e+06  ...  3.586112e+06  2.689844e+06\n",
              "5       4.711394e+06  8.756950e+05  ...  2.922236e+06  1.461424e+06\n",
              "\n",
              "[4 rows x 12 columns]"
            ]
          },
          "metadata": {
            "tags": []
          },
          "execution_count": 78
        }
      ]
    },
    {
      "cell_type": "code",
      "metadata": {
        "id": "fM1tWItgXdpP",
        "colab_type": "code",
        "colab": {
          "base_uri": "https://localhost:8080/",
          "height": 467
        },
        "outputId": "364e3406-03ee-4045-bfd5-4ffe6ec2582d"
      },
      "source": [
        "plt.figure(figsize=(12,7))\n",
        "plt.style.use('ggplot')\n",
        "sns.countplot('dgrade',hue='genre', data=df)"
      ],
      "execution_count": 79,
      "outputs": [
        {
          "output_type": "execute_result",
          "data": {
            "text/plain": [
              "<matplotlib.axes._subplots.AxesSubplot at 0x7feeb5aa19b0>"
            ]
          },
          "metadata": {
            "tags": []
          },
          "execution_count": 79
        },
        {
          "output_type": "display_data",
          "data": {
            "image/png": "[encoded data removed]",
            "text/plain": [
              "<Figure size 864x504 with 1 Axes>"
            ]
          },
          "metadata": {
            "tags": [],
            "image/png": {
              "width": 725,
              "height": 432
            },
            "needs_background": "light"
          }
        }
      ]
    },
    {
      "cell_type": "code",
      "metadata": {
        "id": "hTrCZxL3dLm3",
        "colab_type": "code",
        "colab": {
          "base_uri": "https://localhost:8080/",
          "height": 350
        },
        "outputId": "d367d940-07cf-4401-eebc-3c7b88ae4a8f"
      },
      "source": [
        "sns.heatmap(dfg)"
      ],
      "execution_count": 80,
      "outputs": [
        {
          "output_type": "execute_result",
          "data": {
            "text/plain": [
              "<matplotlib.axes._subplots.AxesSubplot at 0x7feeb72d4390>"
            ]
          },
          "metadata": {
            "tags": []
          },
          "execution_count": 80
        },
        {
          "output_type": "display_data",
          "data": {
            "image/png": "[encoded data removed]",
            "text/plain": [
              "<Figure size 432x288 with 2 Axes>"
            ]
          },
          "metadata": {
            "tags": [],
            "image/png": {
              "width": 357,
              "height": 315
            }
          }
        }
      ]
    },
    {
      "cell_type": "markdown",
      "metadata": {
        "colab_type": "text",
        "id": "3zjQY_KY2lnR"
      },
      "source": [
        "## 3. 데이터 전처리( Data Cleansing & Pre-Processing )"
      ]
    },
    {
      "cell_type": "markdown",
      "metadata": {
        "id": "r4JcvbkCyAu4",
        "colab_type": "text"
      },
      "source": [
        "#### 결측값 확인"
      ]
    },
    {
      "cell_type": "code",
      "metadata": {
        "id": "8WH4LQF3ua6A",
        "colab_type": "code",
        "colab": {
          "base_uri": "https://localhost:8080/",
          "height": 251
        },
        "outputId": "1669b1cc-f0f4-442b-a7d6-5ed725e7d6f5"
      },
      "source": [
        "train.isna().sum()"
      ],
      "execution_count": 82,
      "outputs": [
        {
          "output_type": "execute_result",
          "data": {
            "text/plain": [
              "title               0\n",
              "distributor         0\n",
              "genre               0\n",
              "release_time        0\n",
              "time                0\n",
              "screening_rat       0\n",
              "director            0\n",
              "dir_prev_bfnum    330\n",
              "dir_prev_num        0\n",
              "num_staff           0\n",
              "num_actor           0\n",
              "box_off_num         0\n",
              "dtype: int64"
            ]
          },
          "metadata": {
            "tags": []
          },
          "execution_count": 82
        }
      ]
    },
    {
      "cell_type": "code",
      "metadata": {
        "id": "LOAVJst4pJNr",
        "colab_type": "code",
        "colab": {
          "base_uri": "https://localhost:8080/",
          "height": 419
        },
        "outputId": "05577edc-ba49-4672-b5bc-eed5281761cd"
      },
      "source": [
        "train[train['dir_prev_bfnum'].isna()][['dir_prev_bfnum','dir_prev_num']]"
      ],
      "execution_count": 83,
      "outputs": [
        {
          "output_type": "execute_result",
          "data": {
            "text/html": [
              "<div>\n",
              "<style scoped>\n",
              "    .dataframe tbody tr th:only-of-type {\n",
              "        vertical-align: middle;\n",
              "    }\n",
              "\n",
              "    .dataframe tbody tr th {\n",
              "        vertical-align: top;\n",
              "    }\n",
              "\n",
              "    .dataframe thead th {\n",
              "        text-align: right;\n",
              "    }\n",
              "</style>\n",
              "<table border=\"1\" class=\"dataframe\">\n",
              "  <thead>\n",
              "    <tr style=\"text-align: right;\">\n",
              "      <th></th>\n",
              "      <th>dir_prev_bfnum</th>\n",
              "      <th>dir_prev_num</th>\n",
              "    </tr>\n",
              "  </thead>\n",
              "  <tbody>\n",
              "    <tr>\n",
              "      <th>0</th>\n",
              "      <td>NaN</td>\n",
              "      <td>0</td>\n",
              "    </tr>\n",
              "    <tr>\n",
              "      <th>6</th>\n",
              "      <td>NaN</td>\n",
              "      <td>0</td>\n",
              "    </tr>\n",
              "    <tr>\n",
              "      <th>8</th>\n",
              "      <td>NaN</td>\n",
              "      <td>0</td>\n",
              "    </tr>\n",
              "    <tr>\n",
              "      <th>9</th>\n",
              "      <td>NaN</td>\n",
              "      <td>0</td>\n",
              "    </tr>\n",
              "    <tr>\n",
              "      <th>10</th>\n",
              "      <td>NaN</td>\n",
              "      <td>0</td>\n",
              "    </tr>\n",
              "    <tr>\n",
              "      <th>...</th>\n",
              "      <td>...</td>\n",
              "      <td>...</td>\n",
              "    </tr>\n",
              "    <tr>\n",
              "      <th>593</th>\n",
              "      <td>NaN</td>\n",
              "      <td>0</td>\n",
              "    </tr>\n",
              "    <tr>\n",
              "      <th>594</th>\n",
              "      <td>NaN</td>\n",
              "      <td>0</td>\n",
              "    </tr>\n",
              "    <tr>\n",
              "      <th>597</th>\n",
              "      <td>NaN</td>\n",
              "      <td>0</td>\n",
              "    </tr>\n",
              "    <tr>\n",
              "      <th>598</th>\n",
              "      <td>NaN</td>\n",
              "      <td>0</td>\n",
              "    </tr>\n",
              "    <tr>\n",
              "      <th>599</th>\n",
              "      <td>NaN</td>\n",
              "      <td>0</td>\n",
              "    </tr>\n",
              "  </tbody>\n",
              "</table>\n",
              "<p>330 rows × 2 columns</p>\n",
              "</div>"
            ],
            "text/plain": [
              "     dir_prev_bfnum  dir_prev_num\n",
              "0               NaN             0\n",
              "6               NaN             0\n",
              "8               NaN             0\n",
              "9               NaN             0\n",
              "10              NaN             0\n",
              "..              ...           ...\n",
              "593             NaN             0\n",
              "594             NaN             0\n",
              "597             NaN             0\n",
              "598             NaN             0\n",
              "599             NaN             0\n",
              "\n",
              "[330 rows x 2 columns]"
            ]
          },
          "metadata": {
            "tags": []
          },
          "execution_count": 83
        }
      ]
    },
    {
      "cell_type": "code",
      "metadata": {
        "id": "b7ClwLBi4zpy",
        "colab_type": "code",
        "colab": {
          "base_uri": "https://localhost:8080/",
          "height": 53
        },
        "outputId": "8a75649d-ee80-4255-b6f6-19e8dde04014"
      },
      "source": [
        "train[train['dir_prev_bfnum'].isna()][['dir_prev_num']].sum()"
      ],
      "execution_count": 84,
      "outputs": [
        {
          "output_type": "execute_result",
          "data": {
            "text/plain": [
              "dir_prev_num    0\n",
              "dtype: int64"
            ]
          },
          "metadata": {
            "tags": []
          },
          "execution_count": 84
        }
      ]
    },
    {
      "cell_type": "code",
      "metadata": {
        "id": "1by04ff_p4SN",
        "colab_type": "code",
        "colab": {}
      },
      "source": [
        "train['dir_prev_bfnum'].fillna(0, inplace=True)"
      ],
      "execution_count": 85,
      "outputs": []
    },
    {
      "cell_type": "code",
      "metadata": {
        "id": "S6JjXc0dqE8E",
        "colab_type": "code",
        "colab": {
          "base_uri": "https://localhost:8080/",
          "height": 35
        },
        "outputId": "f08607e2-a89e-4fdc-9e85-7a8c21be62e0"
      },
      "source": [
        "train['dir_prev_bfnum'].isna().sum()"
      ],
      "execution_count": 86,
      "outputs": [
        {
          "output_type": "execute_result",
          "data": {
            "text/plain": [
              "0"
            ]
          },
          "metadata": {
            "tags": []
          },
          "execution_count": 86
        }
      ]
    }
  ]
}